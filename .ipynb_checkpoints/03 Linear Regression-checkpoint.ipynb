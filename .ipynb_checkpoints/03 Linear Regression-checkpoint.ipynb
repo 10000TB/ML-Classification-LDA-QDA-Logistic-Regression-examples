{
 "cells": [
  {
   "cell_type": "markdown",
   "metadata": {},
   "source": [
    "# Linear Models for Predicting Continuous Values"
   ]
  },
  {
   "cell_type": "markdown",
   "metadata": {},
   "source": [
    "## Linear Structure"
   ]
  },
  {
   "cell_type": "markdown",
   "metadata": {},
   "source": [
    "$\\newcommand{\\xv}{\\mathbf{x}}\n",
    "\\newcommand{\\Xv}{\\mathbf{X}}\n",
    "\\newcommand{\\yv}{\\mathbf{y}}\n",
    "\\newcommand{\\zv}{\\mathbf{z}}\n",
    "\\newcommand{\\av}{\\mathbf{a}}\n",
    "\\newcommand{\\Wv}{\\mathbf{W}}\n",
    "\\newcommand{\\wv}{\\mathbf{w}}\n",
    "\\newcommand{\\tv}{\\mathbf{t}}\n",
    "\\newcommand{\\Tv}{\\mathbf{T}}\n",
    "\\newcommand{\\muv}{\\boldsymbol{\\mu}}\n",
    "\\newcommand{\\sigmav}{\\boldsymbol{\\sigma}}\n",
    "\\newcommand{\\phiv}{\\boldsymbol{\\phi}}\n",
    "\\newcommand{\\Phiv}{\\boldsymbol{\\Phi}}\n",
    "\\newcommand{\\Sigmav}{\\boldsymbol{\\Sigma}}\n",
    "\\newcommand{\\Lambdav}{\\boldsymbol{\\Lambda}}\n",
    "\\newcommand{\\half}{\\frac{1}{2}}\n",
    "\\newcommand{\\argmax}[1]{\\underset{#1}{\\operatorname{argmax}}}\n",
    "\\newcommand{\\argmin}[1]{\\underset{#1}{\\operatorname{argmin}}}$"
   ]
  },
  {
   "cell_type": "markdown",
   "metadata": {},
   "source": [
    "Given $N$ observations, $\\xv_n$, for $n=1,\\ldots,N$, and target values,\n",
    "$t_n$, for $n=1,\\ldots,N$, what is the simplest model,\n",
    "$g(\\xv)$, you can think of?\n",
    "\n",
    "$$\n",
    "g(\\xv) = 0\n",
    "$$\n",
    "\n",
    "or maybe\n",
    "\n",
    "$$\n",
    "g(\\xv) = c\n",
    "$$\n",
    "\n",
    "What is next simplest model?\n",
    "\n",
    "$$\n",
    "\\begin{align*}\n",
    "   g(\\xv;\\wv) &= w_0 + w_1 x_1 + w_2 x_2 + \\cdots + w_D x_D \\\\\n",
    "   &= w_0 + \\sum_{i=1}^D w_i x_i \\\\\n",
    "   & = \\sum_{i=0}^D w_i x_i \\mbox{, where } x_0 = 1 \\\\\n",
    "   &= \\wv^T \\xv\n",
    "\\end{align*}\n",
    "$$\n",
    "\n",
    "  * This is nice because it is linear in the parameters $\\wv$; optimizations based on derivatives might be solvable analytically.\n",
    "  * This is not so nice, because it is also linear in the inputs, $\\xv$; greatly limits the complexity of the model.\n",
    "  *  But, a model linear in the inputs might be the best you can do for many cases, such as a sparsely sampled distribution, process, population, thing...whatever it is you want to model.\n"
   ]
  },
  {
   "cell_type": "markdown",
   "metadata": {},
   "source": [
    "## Fitting Data Samples with a Linear Model"
   ]
  },
  {
   "cell_type": "markdown",
   "metadata": {},
   "source": [
    "<img src=\"springs.png\">\n",
    "\n",
    "Force exerted by spring is proportional to its length. The potential\n",
    "energy stored in the spring is proportinal to the square of its length.\n",
    "Say we want the rod to settle at position that minimizes the potential\n",
    "energy in the springs.\n",
    "$$\n",
    "\\begin{align*}\n",
    "\\sum_{n=1}^N (t_n - g(\\xv_n;\\wv))^2\n",
    "\\end{align*}\n",
    "$$\n",
    "\n",
    "If $g$ is an affine (linear + constant) function of $x$,\n",
    "$$\n",
    "    g(\\xv;\\wv) = w_0 + w_1 x\n",
    "$$\n",
    "with parameters $\\wv = (w_0, w_1)$, which parameter values give best fit?\n",
    "$$\n",
    "    \\wv_{\\mbox{best}} = \\argmin{\\wv} \\sum_{n=1}^N (t_n - g(x_n ; \\wv))^2\n",
    "$$\n",
    "\n",
    "Set derivative (gradient) with respect to $\\wv$ to zero and\n",
    "solve for $\\wv$.  Let's do this with matrices.  \n",
    "\n",
    "Collect all targets into matrix $T$ and $x$ samples into matrix\n",
    "$X$. ($N$=number samples, $D$=sample dimensionality)\n",
    "$$\n",
    "  \\begin{align*}\n",
    "    T &= \\begin{bmatrix}\n",
    "      t_1 \\\\ t_2 \\\\ \\vdots \\\\ t_N\n",
    "    \\end{bmatrix} \\\\\n",
    "    X &= \\begin{bmatrix}\n",
    "      x_{1,0} & x_{1,1} & x_{1,2} & \\dotsc & x_{1,D} \\\\\n",
    "      x_{2,0} & x_{2,1} & x_{2,2} & \\dotsc & x_{2,D} \\\\\n",
    "      \\vdots \\\\\n",
    "      x_{N,0} & x_{N,1} & x_{N,2} & \\dotsc & x_{N,D}\n",
    "    \\end{bmatrix}\\\\\n",
    "    \\wv &= \\begin{bmatrix} w_0 \\\\ w_1 \\\\ \\vdots \\\\ w_D \\end{bmatrix}\n",
    "  \\end{align*}\n",
    "$$\n",
    "\n",
    "Collection of all differences is $T - X\\wv$, which is an $N \\times\n",
    "1$ matrix.  To form the square of all values and add them up, just\n",
    "do a dot product $(T-X\\wv)^T (T-X\\wv)$.  This only works if the value we are predicting is a scalar, which means $T$ is a column matrix.  If we want to predict more than one value for each sample, $T$ will have more than one column.  Let's continue with the derivation assuming $T$ has $K$ columns, meaning we want a linear model with $K$ outputs."
   ]
  },
  {
   "cell_type": "markdown",
   "metadata": {},
   "source": [
    "To find the best value for $\\wv$, we take the derivative the the sum of squared error objective, set it equal to 0 and solve for $\\wv$. \n",
    "\n",
    "$$\n",
    "\\begin{align*}\n",
    "\\frac{\\partial \\sum_{n=1}^N (\\tv_n - g(\\xv_n;\\wv))^2}{\\partial \\wv} &= -2 \\sum_{n=1}^N (\\tv_n - g(\\xv_n;\\wv) \\frac{\\partial g(\\xv_n;\\wv)}{\\partial \\wv}\\\\\n",
    "&= -2 \\sum_{n=1}^N (\\tv_n - \\xv_n^T \\wv) \\frac{\\partial \\xv_n^T \\wv}{\\partial \\wv}\\\\\n",
    "&= -2 \\sum_{n=1}^N (\\tv_n - \\xv_n^T \\wv) \\xv_n^T\n",
    "\\end{align*}\n",
    "$$\n",
    "\n",
    "Here's where we get the benefit of expressing the $\\xv_n$ and $t_n$ samples as matrices. The sum can be performed with a dot product:\n",
    "\n",
    "$$\n",
    "\\begin{align*}\n",
    "\\frac{\\partial \\sum_{n=1}^N (\\tv_n - g(\\xv_n;\\wv))^2}{\\partial \\wv} \n",
    "&= -2 \\sum_{n=1}^N (\\tv_n - \\xv_n^T \\wv) \\xv_n^T\\\\\n",
    "&= -2 \\Xv^T (\\Tv - \\Xv \\wv)\n",
    "\\end{align*}\n",
    "$$\n",
    "\n",
    "Check the sizes and shapes of each matrix in the last equation above.\n",
    "\n",
    "Now we can set this equal to zero and solve for $\\wv$.\n",
    "\n",
    "$$\n",
    "\\begin{align*}\n",
    "-2 \\Xv^T (\\Tv - \\Xv \\wv) &= 0\\\\\n",
    "\\Xv^T (\\Tv - \\Xv \\wv) &= 0\\\\\n",
    "\\Xv^T \\Tv &= \\Xv^T \\Xv \\wv\\\\\n",
    "\\wv &= (\\Xv^T \\Xv)^{-1} \\Xv^T \\Tv\n",
    "\\end{align*}\n",
    "$$"
   ]
  },
  {
   "cell_type": "markdown",
   "metadata": {},
   "source": [
    "And, in python\n",
    "\n",
    "    w = np.dot( np.linalg.inv(np.dot(X.T, X)), np.dot(X.T,T) )\n",
    "\n",
    "or, you may use the *solve* function that assumes $\\Xv^T \\Xv$ is full rank (no linearly dependent columns),\n",
    "\n",
    "    w = np.linalg.solve(np.dot(X.T,X), np.dot(X.T, T))\n",
    "\n",
    "or, better yet, use the *lstsq* function that does not make that assumption. \n",
    "\n",
    "    w = np.linalg.lstsq(np.dot(X.T,X), np.dot(X.T, T))"
   ]
  },
  {
   "cell_type": "markdown",
   "metadata": {},
   "source": [
    "## Application"
   ]
  },
  {
   "cell_type": "markdown",
   "metadata": {},
   "source": [
    "Try the [automobile data set](http://archive.ics.uci.edu/ml/datasets/Auto+MPG) at UCI Machine Learning Database \n",
    "Repository. Download\n",
    "*auto-mpg.data* and *auto-mpg.names* from the \"Data Folder\" link\n",
    "near the top of the web page.\n",
    "\n",
    "First, take a look at *auto-mpg.names*.  There you will learn that there are 398 samples, each with 8 numerical attributes and one string attribute. Their names are\n",
    "\n",
    "   1. mpg:           continuous\n",
    "   2. cylinders:     multi-valued discrete\n",
    "   3. displacement:  continuous\n",
    "   4. horsepower:    continuous\n",
    "   5. weight:        continuous\n",
    "   6. acceleration:  continuous\n",
    "   7. model year:    multi-valued discrete\n",
    "   8. origin:        multi-valued discrete\n",
    "   9. car name:      string (unique for each instance)\n",
    "\n",
    "First step, read it into python and look at it."
   ]
  },
  {
   "cell_type": "code",
   "execution_count": 2,
   "metadata": {
    "collapsed": false
   },
   "outputs": [],
   "source": [
    "import numpy as np\n",
    "import matplotlib.pyplot as plt\n",
    "%matplotlib inline"
   ]
  },
  {
   "cell_type": "markdown",
   "metadata": {},
   "source": [
    "Take a look at a few lines of the data file to figure out how to read it in."
   ]
  },
  {
   "cell_type": "code",
   "execution_count": 3,
   "metadata": {
    "collapsed": false
   },
   "outputs": [
    {
     "name": "stdout",
     "output_type": "stream",
     "text": [
      "18.0   8   307.0      130.0      3504.      12.0   70  1\t\"chevrolet chevelle malibu\"\r\n",
      "15.0   8   350.0      165.0      3693.      11.5   70  1\t\"buick skylark 320\"\r\n",
      "18.0   8   318.0      150.0      3436.      11.0   70  1\t\"plymouth satellite\"\r\n",
      "16.0   8   304.0      150.0      3433.      12.0   70  1\t\"amc rebel sst\"\r\n",
      "17.0   8   302.0      140.0      3449.      10.5   70  1\t\"ford torino\"\r\n",
      "15.0   8   429.0      198.0      4341.      10.0   70  1\t\"ford galaxie 500\"\r\n",
      "14.0   8   454.0      220.0      4354.       9.0   70  1\t\"chevrolet impala\"\r\n",
      "14.0   8   440.0      215.0      4312.       8.5   70  1\t\"plymouth fury iii\"\r\n",
      "14.0   8   455.0      225.0      4425.      10.0   70  1\t\"pontiac catalina\"\r\n",
      "15.0   8   390.0      190.0      3850.       8.5   70  1\t\"amc ambassador dpl\"\r\n",
      "15.0   8   383.0      170.0      3563.      10.0   70  1\t\"dodge challenger se\"\r\n",
      "14.0   8   340.0      160.0      3609.       8.0   70  1\t\"plymouth 'cuda 340\"\r\n",
      "15.0   8   400.0      150.0      3761.       9.5   70  1\t\"chevrolet monte carlo\"\r\n",
      "14.0   8   455.0      225.0      3086.      10.0   70  1\t\"buick estate wagon (sw)\"\r\n",
      "24.0   4   113.0      95.00      2372.      15.0   70  3\t\"toyota corona mark ii\"\r\n",
      "22.0   6   198.0      95.00      2833.      15.5   70  1\t\"plymouth duster\"\r\n",
      "18.0   6   199.0      97.00      2774.      15.5   70  1\t\"amc hornet\"\r\n",
      "21.0   6   200.0      85.00      2587.      16.0   70  1\t\"ford maverick\"\r\n",
      "27.0   4   97.00      88.00      2130.      14.5   70  3\t\"datsun pl510\"\r\n",
      "26.0   4   97.00      46.00      1835.      20.5   70  2\t\"volkswagen 1131 deluxe sedan\"\r\n",
      "25.0   4   110.0      87.00      2672.      17.5   70  2\t\"peugeot 504\"\r\n",
      "24.0   4   107.0      90.00      2430.      14.5   70  2\t\"audi 100 ls\"\r\n",
      "25.0   4   104.0      95.00      2375.      17.5   70  2\t\"saab 99e\"\r\n",
      "26.0   4   121.0      113.0      2234.      12.5   70  2\t\"bmw 2002\"\r\n",
      "21.0   6   199.0      90.00      2648.      15.0   70  1\t\"amc gremlin\"\r\n",
      "10.0   8   360.0      215.0      4615.      14.0   70  1\t\"ford f250\"\r\n",
      "10.0   8   307.0      200.0      4376.      15.0   70  1\t\"chevy c20\"\r\n",
      "11.0   8   318.0      210.0      4382.      13.5   70  1\t\"dodge d200\"\r\n",
      "9.0    8   304.0      193.0      4732.      18.5   70  1\t\"hi 1200d\"\r\n",
      "27.0   4   97.00      88.00      2130.      14.5   71  3\t\"datsun pl510\"\r\n"
     ]
    }
   ],
   "source": [
    "!head -30 auto-mpg.data"
   ]
  },
  {
   "cell_type": "markdown",
   "metadata": {},
   "source": [
    "Instead of relying on the *pandas* package to read this data, let's try using the simpler *numpy.loadtxt* function.\n",
    "We see that each line contains a sample consisting of 8 numbers and\n",
    "one string.  However, first we have to figure out how to deal with the\n",
    "missing values. The documentation for *numpy.loadtxt* reveals that\n",
    "the *converters* argument can be used to specify a function to apply\n",
    "to the values from particular columns of data.  We can use this to\n",
    "deal with the missing values.  Looking at *auto-mpg.data* we see\n",
    "that the missing values are marked with question marks.  These are all in the fourth column, the horsepower attribute."
   ]
  },
  {
   "cell_type": "markdown",
   "metadata": {},
   "source": [
    "Here is a simple function that translates '?' to NaN (*np.nan*) and anything else is converted to a floating point number."
   ]
  },
  {
   "cell_type": "code",
   "execution_count": 4,
   "metadata": {
    "collapsed": false
   },
   "outputs": [
    {
     "name": "stdout",
     "output_type": "stream",
     "text": [
      "12.32\n",
      "nan\n",
      "12.1232\n",
      "nan\n"
     ]
    }
   ],
   "source": [
    "def missingIsNan(s):\n",
    "    if s == b'?':  # single character read as b'?' != '?'\n",
    "        return np.nan\n",
    "    else:\n",
    "        return float(s)\n",
    "    \n",
    "print(missingIsNan('12.32'))\n",
    "print(missingIsNan(b'?'))\n",
    "\n",
    "def missingIsNan(s):\n",
    "    if s == b'?':\n",
    "        return np.nan\n",
    "    else:\n",
    "        return float(s)\n",
    "print(missingIsNan('12.1232'))\n",
    "print(missingIsNan(b'?'))"
   ]
  },
  {
   "cell_type": "markdown",
   "metadata": {},
   "source": [
    "Hey, why not get fancy and write a one-liner?"
   ]
  },
  {
   "cell_type": "code",
   "execution_count": 5,
   "metadata": {
    "collapsed": false
   },
   "outputs": [
    {
     "name": "stdout",
     "output_type": "stream",
     "text": [
      "12.32\n",
      "nan\n",
      "12321.123\n",
      "nan\n"
     ]
    }
   ],
   "source": [
    "def missingIsNan(s):\n",
    "    return np.nan if s == b'?' else float(s)\n",
    "\n",
    "print(missingIsNan('12.32'))\n",
    "print(missingIsNan(b'?'))\n",
    "\n",
    "def missingIsNan(s):\n",
    "    return np.nan if s == b'?' else float(s)\n",
    "\n",
    "print(missingIsNan('12321.123'))\n",
    "print(missingIsNan(b'?'))"
   ]
  },
  {
   "cell_type": "markdown",
   "metadata": {},
   "source": [
    "The *converters* argument to *np.loadtxt* accepts a python dictionary, which is python's associative array structure."
   ]
  },
  {
   "cell_type": "code",
   "execution_count": 6,
   "metadata": {
    "collapsed": false
   },
   "outputs": [
    {
     "name": "stdout",
     "output_type": "stream",
     "text": [
      "{'s': 'asdf', 3: 5234, 4: <function missingIsNan at 0x7fcac3a2be60>, 2: 'sger'}\n"
     ]
    }
   ],
   "source": [
    "d = {1: 'a', 2: 'yo', 3: 42, 4: missingIsNan}\n",
    "d\n",
    "d = {'s': 'asdf', 2: 'sger', 3: 5234, 4: missingIsNan}\n",
    "print(d)"
   ]
  },
  {
   "cell_type": "code",
   "execution_count": 7,
   "metadata": {
    "collapsed": false
   },
   "outputs": [
    {
     "name": "stdout",
     "output_type": "stream",
     "text": [
      "5234\n",
      "asdf\n"
     ]
    }
   ],
   "source": [
    "print(d[3])\n",
    "print(d['s'])"
   ]
  },
  {
   "cell_type": "code",
   "execution_count": 8,
   "metadata": {
    "collapsed": false
   },
   "outputs": [
    {
     "name": "stdout",
     "output_type": "stream",
     "text": [
      "<function missingIsNan at 0x7fcac3a2be60>\n"
     ]
    }
   ],
   "source": [
    "print(d[4])"
   ]
  },
  {
   "cell_type": "code",
   "execution_count": 9,
   "metadata": {
    "collapsed": false
   },
   "outputs": [
    {
     "data": {
      "text/plain": [
       "4"
      ]
     },
     "execution_count": 9,
     "metadata": {},
     "output_type": "execute_result"
    }
   ],
   "source": [
    "d[4](b'?')\n",
    "\n",
    "test =np.array([[1,2,1,3]])\n",
    "test.shape[1]"
   ]
  },
  {
   "cell_type": "markdown",
   "metadata": {},
   "source": [
    "Let's also restrict *np.loadtxt* to reading just the first 8 columns to avoid dealing with the string in the 9th column."
   ]
  },
  {
   "cell_type": "code",
   "execution_count": 10,
   "metadata": {
    "collapsed": false,
    "scrolled": true
   },
   "outputs": [],
   "source": [
    "data = np.loadtxt('auto-mpg.data', usecols=range(8), converters={3: missingIsNan})"
   ]
  },
  {
   "cell_type": "code",
   "execution_count": 11,
   "metadata": {
    "collapsed": false,
    "scrolled": true
   },
   "outputs": [
    {
     "data": {
      "text/plain": [
       "(398, 8)"
      ]
     },
     "execution_count": 11,
     "metadata": {},
     "output_type": "execute_result"
    }
   ],
   "source": [
    "data.shape"
   ]
  },
  {
   "cell_type": "code",
   "execution_count": 12,
   "metadata": {
    "collapsed": false
   },
   "outputs": [
    {
     "name": "stdout",
     "output_type": "stream",
     "text": [
      "[[  1.80000000e+01   8.00000000e+00   3.07000000e+02   1.30000000e+02\n",
      "    3.50400000e+03   1.20000000e+01   7.00000000e+01   1.00000000e+00]\n",
      " [  1.50000000e+01   8.00000000e+00   3.50000000e+02   1.65000000e+02\n",
      "    3.69300000e+03   1.15000000e+01   7.00000000e+01   1.00000000e+00]\n",
      " [  1.80000000e+01   8.00000000e+00   3.18000000e+02   1.50000000e+02\n",
      "    3.43600000e+03   1.10000000e+01   7.00000000e+01   1.00000000e+00]]\n",
      "\n",
      "\n",
      "[[  16.     8.   304.  ...,   12.    70.     1. ]\n",
      " [  17.     8.   302.  ...,   10.5   70.     1. ]\n",
      " [  15.     8.   429.  ...,   10.    70.     1. ]\n",
      " ..., \n",
      " [  32.     4.   135.  ...,   11.6   82.     1. ]\n",
      " [  28.     4.   120.  ...,   18.6   82.     1. ]\n",
      " [  31.     4.   119.  ...,   19.4   82.     1. ]]\n",
      "[[ 307. ]\n",
      " [ 350. ]\n",
      " [ 318. ]\n",
      " [ 304. ]\n",
      " [ 302. ]\n",
      " [ 429. ]\n",
      " [ 454. ]\n",
      " [ 440. ]\n",
      " [ 455. ]\n",
      " [ 390. ]\n",
      " [ 383. ]\n",
      " [ 340. ]\n",
      " [ 400. ]\n",
      " [ 455. ]\n",
      " [ 113. ]\n",
      " [ 198. ]\n",
      " [ 199. ]\n",
      " [ 200. ]\n",
      " [  97. ]\n",
      " [  97. ]\n",
      " [ 110. ]\n",
      " [ 107. ]\n",
      " [ 104. ]\n",
      " [ 121. ]\n",
      " [ 199. ]\n",
      " [ 360. ]\n",
      " [ 307. ]\n",
      " [ 318. ]\n",
      " [ 304. ]\n",
      " [  97. ]\n",
      " [ 140. ]\n",
      " [ 113. ]\n",
      " [  98. ]\n",
      " [ 232. ]\n",
      " [ 225. ]\n",
      " [ 250. ]\n",
      " [ 250. ]\n",
      " [ 232. ]\n",
      " [ 350. ]\n",
      " [ 400. ]\n",
      " [ 351. ]\n",
      " [ 318. ]\n",
      " [ 383. ]\n",
      " [ 400. ]\n",
      " [ 400. ]\n",
      " [ 258. ]\n",
      " [ 140. ]\n",
      " [ 250. ]\n",
      " [ 250. ]\n",
      " [ 122. ]\n",
      " [ 116. ]\n",
      " [  79. ]\n",
      " [  88. ]\n",
      " [  71. ]\n",
      " [  72. ]\n",
      " [  97. ]\n",
      " [  91. ]\n",
      " [ 113. ]\n",
      " [  97.5]\n",
      " [  97. ]\n",
      " [ 140. ]\n",
      " [ 122. ]\n",
      " [ 350. ]\n",
      " [ 400. ]\n",
      " [ 318. ]\n",
      " [ 351. ]\n",
      " [ 304. ]\n",
      " [ 429. ]\n",
      " [ 350. ]\n",
      " [ 350. ]\n",
      " [ 400. ]\n",
      " [  70. ]\n",
      " [ 304. ]\n",
      " [ 307. ]\n",
      " [ 302. ]\n",
      " [ 318. ]\n",
      " [ 121. ]\n",
      " [ 121. ]\n",
      " [ 120. ]\n",
      " [  96. ]\n",
      " [ 122. ]\n",
      " [  97. ]\n",
      " [ 120. ]\n",
      " [  98. ]\n",
      " [  97. ]\n",
      " [ 350. ]\n",
      " [ 304. ]\n",
      " [ 350. ]\n",
      " [ 302. ]\n",
      " [ 318. ]\n",
      " [ 429. ]\n",
      " [ 400. ]\n",
      " [ 351. ]\n",
      " [ 318. ]\n",
      " [ 440. ]\n",
      " [ 455. ]\n",
      " [ 360. ]\n",
      " [ 225. ]\n",
      " [ 250. ]\n",
      " [ 232. ]\n",
      " [ 250. ]\n",
      " [ 198. ]\n",
      " [  97. ]\n",
      " [ 400. ]\n",
      " [ 400. ]\n",
      " [ 360. ]\n",
      " [ 350. ]\n",
      " [ 232. ]\n",
      " [  97. ]\n",
      " [ 140. ]\n",
      " [ 108. ]\n",
      " [  70. ]\n",
      " [ 122. ]\n",
      " [ 155. ]\n",
      " [  98. ]\n",
      " [ 350. ]\n",
      " [ 400. ]\n",
      " [  68. ]\n",
      " [ 116. ]\n",
      " [ 114. ]\n",
      " [ 121. ]\n",
      " [ 318. ]\n",
      " [ 121. ]\n",
      " [ 156. ]\n",
      " [ 350. ]\n",
      " [ 198. ]\n",
      " [ 200. ]\n",
      " [ 232. ]\n",
      " [ 250. ]\n",
      " [  79. ]\n",
      " [ 122. ]\n",
      " [  71. ]\n",
      " [ 140. ]\n",
      " [ 250. ]\n",
      " [ 258. ]\n",
      " [ 225. ]\n",
      " [ 302. ]\n",
      " [ 350. ]\n",
      " [ 318. ]\n",
      " [ 302. ]\n",
      " [ 304. ]\n",
      " [  98. ]\n",
      " [  79. ]\n",
      " [  97. ]\n",
      " [  76. ]\n",
      " [  83. ]\n",
      " [  90. ]\n",
      " [  90. ]\n",
      " [ 116. ]\n",
      " [ 120. ]\n",
      " [ 108. ]\n",
      " [  79. ]\n",
      " [ 225. ]\n",
      " [ 250. ]\n",
      " [ 250. ]\n",
      " [ 250. ]\n",
      " [ 400. ]\n",
      " [ 350. ]\n",
      " [ 318. ]\n",
      " [ 351. ]\n",
      " [ 231. ]\n",
      " [ 250. ]\n",
      " [ 258. ]\n",
      " [ 225. ]\n",
      " [ 231. ]\n",
      " [ 262. ]\n",
      " [ 302. ]\n",
      " [  97. ]\n",
      " [ 140. ]\n",
      " [ 232. ]\n",
      " [ 140. ]\n",
      " [ 134. ]\n",
      " [  90. ]\n",
      " [ 119. ]\n",
      " [ 171. ]\n",
      " [  90. ]\n",
      " [ 232. ]\n",
      " [ 115. ]\n",
      " [ 120. ]\n",
      " [ 121. ]\n",
      " [ 121. ]\n",
      " [  91. ]\n",
      " [ 107. ]\n",
      " [ 116. ]\n",
      " [ 140. ]\n",
      " [  98. ]\n",
      " [ 101. ]\n",
      " [ 305. ]\n",
      " [ 318. ]\n",
      " [ 304. ]\n",
      " [ 351. ]\n",
      " [ 225. ]\n",
      " [ 250. ]\n",
      " [ 200. ]\n",
      " [ 232. ]\n",
      " [  85. ]\n",
      " [  98. ]\n",
      " [  90. ]\n",
      " [  91. ]\n",
      " [ 225. ]\n",
      " [ 250. ]\n",
      " [ 250. ]\n",
      " [ 258. ]\n",
      " [  97. ]\n",
      " [  85. ]\n",
      " [  97. ]\n",
      " [ 140. ]\n",
      " [ 130. ]\n",
      " [ 318. ]\n",
      " [ 120. ]\n",
      " [ 156. ]\n",
      " [ 168. ]\n",
      " [ 350. ]\n",
      " [ 350. ]\n",
      " [ 302. ]\n",
      " [ 318. ]\n",
      " [  98. ]\n",
      " [ 111. ]\n",
      " [  79. ]\n",
      " [ 122. ]\n",
      " [  85. ]\n",
      " [ 305. ]\n",
      " [ 260. ]\n",
      " [ 318. ]\n",
      " [ 302. ]\n",
      " [ 250. ]\n",
      " [ 231. ]\n",
      " [ 225. ]\n",
      " [ 250. ]\n",
      " [ 400. ]\n",
      " [ 350. ]\n",
      " [ 400. ]\n",
      " [ 351. ]\n",
      " [  97. ]\n",
      " [ 151. ]\n",
      " [  97. ]\n",
      " [ 140. ]\n",
      " [  98. ]\n",
      " [  98. ]\n",
      " [  97. ]\n",
      " [  97. ]\n",
      " [ 146. ]\n",
      " [ 121. ]\n",
      " [  80. ]\n",
      " [  90. ]\n",
      " [  98. ]\n",
      " [  78. ]\n",
      " [  85. ]\n",
      " [  91. ]\n",
      " [ 260. ]\n",
      " [ 318. ]\n",
      " [ 302. ]\n",
      " [ 231. ]\n",
      " [ 200. ]\n",
      " [ 200. ]\n",
      " [ 140. ]\n",
      " [ 225. ]\n",
      " [ 232. ]\n",
      " [ 231. ]\n",
      " [ 200. ]\n",
      " [ 225. ]\n",
      " [ 258. ]\n",
      " [ 305. ]\n",
      " [ 231. ]\n",
      " [ 302. ]\n",
      " [ 318. ]\n",
      " [  98. ]\n",
      " [ 134. ]\n",
      " [ 119. ]\n",
      " [ 105. ]\n",
      " [ 134. ]\n",
      " [ 156. ]\n",
      " [ 151. ]\n",
      " [ 119. ]\n",
      " [ 131. ]\n",
      " [ 163. ]\n",
      " [ 121. ]\n",
      " [ 163. ]\n",
      " [  89. ]\n",
      " [  98. ]\n",
      " [ 231. ]\n",
      " [ 200. ]\n",
      " [ 140. ]\n",
      " [ 232. ]\n",
      " [ 225. ]\n",
      " [ 305. ]\n",
      " [ 302. ]\n",
      " [ 351. ]\n",
      " [ 318. ]\n",
      " [ 350. ]\n",
      " [ 351. ]\n",
      " [ 267. ]\n",
      " [ 360. ]\n",
      " [  89. ]\n",
      " [  86. ]\n",
      " [  98. ]\n",
      " [ 121. ]\n",
      " [ 183. ]\n",
      " [ 350. ]\n",
      " [ 141. ]\n",
      " [ 260. ]\n",
      " [ 105. ]\n",
      " [ 105. ]\n",
      " [  85. ]\n",
      " [  91. ]\n",
      " [ 151. ]\n",
      " [ 173. ]\n",
      " [ 173. ]\n",
      " [ 151. ]\n",
      " [  98. ]\n",
      " [  89. ]\n",
      " [  98. ]\n",
      " [  86. ]\n",
      " [ 151. ]\n",
      " [ 140. ]\n",
      " [ 151. ]\n",
      " [ 225. ]\n",
      " [  97. ]\n",
      " [ 134. ]\n",
      " [ 120. ]\n",
      " [ 119. ]\n",
      " [ 108. ]\n",
      " [  86. ]\n",
      " [ 156. ]\n",
      " [  85. ]\n",
      " [  90. ]\n",
      " [  90. ]\n",
      " [ 121. ]\n",
      " [ 146. ]\n",
      " [  91. ]\n",
      " [  85. ]\n",
      " [  97. ]\n",
      " [  89. ]\n",
      " [ 168. ]\n",
      " [  70. ]\n",
      " [ 122. ]\n",
      " [ 140. ]\n",
      " [ 107. ]\n",
      " [ 135. ]\n",
      " [ 151. ]\n",
      " [ 156. ]\n",
      " [ 173. ]\n",
      " [ 135. ]\n",
      " [  79. ]\n",
      " [  86. ]\n",
      " [  81. ]\n",
      " [  97. ]\n",
      " [  85. ]\n",
      " [  89. ]\n",
      " [  91. ]\n",
      " [ 105. ]\n",
      " [  98. ]\n",
      " [  98. ]\n",
      " [ 105. ]\n",
      " [ 100. ]\n",
      " [ 107. ]\n",
      " [ 108. ]\n",
      " [ 119. ]\n",
      " [ 120. ]\n",
      " [ 141. ]\n",
      " [ 145. ]\n",
      " [ 168. ]\n",
      " [ 146. ]\n",
      " [ 231. ]\n",
      " [ 350. ]\n",
      " [ 200. ]\n",
      " [ 225. ]\n",
      " [ 112. ]\n",
      " [ 112. ]\n",
      " [ 112. ]\n",
      " [ 112. ]\n",
      " [ 135. ]\n",
      " [ 151. ]\n",
      " [ 140. ]\n",
      " [ 151. ]\n",
      " [ 105. ]\n",
      " [  91. ]\n",
      " [  91. ]\n",
      " [ 105. ]\n",
      " [  98. ]\n",
      " [ 120. ]\n",
      " [ 107. ]\n",
      " [ 108. ]\n",
      " [  91. ]\n",
      " [  91. ]\n",
      " [  91. ]\n",
      " [ 181. ]\n",
      " [ 262. ]\n",
      " [ 156. ]\n",
      " [ 232. ]\n",
      " [ 144. ]\n",
      " [ 135. ]\n",
      " [ 151. ]\n",
      " [ 140. ]\n",
      " [  97. ]\n",
      " [ 135. ]\n",
      " [ 120. ]\n",
      " [ 119. ]]\n"
     ]
    }
   ],
   "source": [
    "print(data[:3,:])\n",
    "print(\"\\n\")\n",
    "print(data[3:,:])\n",
    "print(data[:,2:3])"
   ]
  },
  {
   "cell_type": "markdown",
   "metadata": {},
   "source": [
    "We can change the precision that ipython uses to display floating point values."
   ]
  },
  {
   "cell_type": "code",
   "execution_count": 13,
   "metadata": {
    "collapsed": false
   },
   "outputs": [
    {
     "data": {
      "text/plain": [
       "u'%.2f'"
      ]
     },
     "execution_count": 13,
     "metadata": {},
     "output_type": "execute_result"
    }
   ],
   "source": [
    "%precision 3\n",
    "%precision 2"
   ]
  },
  {
   "cell_type": "code",
   "execution_count": 14,
   "metadata": {
    "collapsed": false
   },
   "outputs": [
    {
     "data": {
      "text/plain": [
       "array([[  1.80e+01,   8.00e+00,   3.07e+02,   1.30e+02,   3.50e+03,\n",
       "          1.20e+01,   7.00e+01,   1.00e+00],\n",
       "       [  1.50e+01,   8.00e+00,   3.50e+02,   1.65e+02,   3.69e+03,\n",
       "          1.15e+01,   7.00e+01,   1.00e+00],\n",
       "       [  1.80e+01,   8.00e+00,   3.18e+02,   1.50e+02,   3.44e+03,\n",
       "          1.10e+01,   7.00e+01,   1.00e+00]])"
      ]
     },
     "execution_count": 14,
     "metadata": {},
     "output_type": "execute_result"
    }
   ],
   "source": [
    "data[:3,:]"
   ]
  },
  {
   "cell_type": "markdown",
   "metadata": {},
   "source": [
    "As we have done before, we must find the missing values.  Let's just remove the samples with missing values."
   ]
  },
  {
   "cell_type": "code",
   "execution_count": 15,
   "metadata": {
    "collapsed": false
   },
   "outputs": [
    {
     "name": "stdout",
     "output_type": "stream",
     "text": [
      "[[False False False ..., False False False]\n",
      " [False False False ..., False False False]\n",
      " [False False False ..., False False False]\n",
      " ..., \n",
      " [False False False ..., False False False]\n",
      " [False False False ..., False False False]\n",
      " [False False False ..., False False False]]\n"
     ]
    },
    {
     "data": {
      "text/plain": [
       "6"
      ]
     },
     "execution_count": 15,
     "metadata": {},
     "output_type": "execute_result"
    }
   ],
   "source": [
    "print(np.isnan(data))\n",
    "\n",
    "\n",
    "np.sum(np.isnan(data))"
   ]
  },
  {
   "cell_type": "code",
   "execution_count": 16,
   "metadata": {
    "collapsed": false
   },
   "outputs": [
    {
     "data": {
      "text/plain": [
       "6"
      ]
     },
     "execution_count": 16,
     "metadata": {},
     "output_type": "execute_result"
    }
   ],
   "source": [
    "np.sum(np.isnan(data))"
   ]
  },
  {
   "cell_type": "code",
   "execution_count": 17,
   "metadata": {
    "collapsed": false
   },
   "outputs": [
    {
     "data": {
      "text/plain": [
       "array([0, 0, 0, 6, 0, 0, 0, 0])"
      ]
     },
     "execution_count": 17,
     "metadata": {},
     "output_type": "execute_result"
    }
   ],
   "source": [
    "np.sum(np.isnan(data), axis=0)"
   ]
  },
  {
   "cell_type": "markdown",
   "metadata": {},
   "source": [
    "What does this result tell us?\n",
    "\n",
    "Yep, all 6 *NaN* values are in the fourth column, the horsepower column.\n",
    "\n",
    "Let's just\n",
    "remove those 6 samples from the array.  To do this build a boolean\n",
    "mask of length equal to the number of rows in *data* that is\n",
    "*False* except for any row that contains a NaN.  We can use the\n",
    "*np.any* or *np.all* methods to combine boolean values in each row or column. First, always try\n",
    "such ideas in multiple steps, checking each step."
   ]
  },
  {
   "cell_type": "code",
   "execution_count": 18,
   "metadata": {
    "collapsed": false
   },
   "outputs": [
    {
     "data": {
      "text/plain": [
       "(398, 8)"
      ]
     },
     "execution_count": 18,
     "metadata": {},
     "output_type": "execute_result"
    }
   ],
   "source": [
    "nans = np.isnan(data)\n",
    "nans.shape"
   ]
  },
  {
   "cell_type": "code",
   "execution_count": 19,
   "metadata": {
    "collapsed": false
   },
   "outputs": [
    {
     "data": {
      "text/plain": [
       "(8,)"
      ]
     },
     "execution_count": 19,
     "metadata": {},
     "output_type": "execute_result"
    }
   ],
   "source": [
    "nans.any(axis=0).shape"
   ]
  },
  {
   "cell_type": "code",
   "execution_count": 20,
   "metadata": {
    "collapsed": false
   },
   "outputs": [
    {
     "data": {
      "text/plain": [
       "(398,)"
      ]
     },
     "execution_count": 20,
     "metadata": {},
     "output_type": "execute_result"
    }
   ],
   "source": [
    "nans.any(axis=1).shape"
   ]
  },
  {
   "cell_type": "markdown",
   "metadata": {},
   "source": [
    "That's the one we want, a boolean value for each row, or sample."
   ]
  },
  {
   "cell_type": "code",
   "execution_count": 21,
   "metadata": {
    "collapsed": false
   },
   "outputs": [
    {
     "data": {
      "text/plain": [
       "array([False, False, False, False, False, False, False, False, False,\n",
       "       False, False, False, False, False, False, False, False, False,\n",
       "       False, False, False, False, False, False, False, False, False,\n",
       "       False, False, False, False, False,  True, False, False, False,\n",
       "       False, False, False, False, False, False, False, False, False,\n",
       "       False, False, False, False, False, False, False, False, False,\n",
       "       False, False, False, False, False, False, False, False, False,\n",
       "       False, False, False, False, False, False, False, False, False,\n",
       "       False, False, False, False, False, False, False, False, False,\n",
       "       False, False, False, False, False, False, False, False, False,\n",
       "       False, False, False, False, False, False, False, False, False,\n",
       "       False, False, False, False, False, False, False, False, False,\n",
       "       False, False, False, False, False, False, False, False, False,\n",
       "       False, False, False, False, False, False, False, False, False,\n",
       "        True, False, False, False, False, False, False, False, False,\n",
       "       False, False, False, False, False, False, False, False, False,\n",
       "       False, False, False, False, False, False, False, False, False,\n",
       "       False, False, False, False, False, False, False, False, False,\n",
       "       False, False, False, False, False, False, False, False, False,\n",
       "       False, False, False, False, False, False, False, False, False,\n",
       "       False, False, False, False, False, False, False, False, False,\n",
       "       False, False, False, False, False, False, False, False, False,\n",
       "       False, False, False, False, False, False, False, False, False,\n",
       "       False, False, False, False, False, False, False, False, False,\n",
       "       False, False, False, False, False, False, False, False, False,\n",
       "       False, False, False, False, False, False, False, False, False,\n",
       "       False, False, False, False, False, False, False, False, False,\n",
       "       False, False, False, False, False, False, False, False, False,\n",
       "       False, False, False, False, False, False, False, False, False,\n",
       "       False, False, False, False, False, False, False, False, False,\n",
       "       False, False, False, False, False, False, False, False, False,\n",
       "       False, False, False, False, False, False, False, False, False,\n",
       "       False, False, False, False, False, False, False, False, False,\n",
       "       False, False, False, False, False, False, False, False, False,\n",
       "       False, False, False, False, False, False, False, False, False,\n",
       "       False, False, False, False, False, False, False, False, False,\n",
       "       False, False, False, False, False, False,  True, False, False,\n",
       "       False, False, False,  True, False, False, False, False, False,\n",
       "       False, False, False, False, False, False, False, False, False,\n",
       "       False, False, False,  True, False, False, False, False, False,\n",
       "       False, False, False, False, False, False, False, False, False,\n",
       "       False, False, False, False, False,  True, False, False, False,\n",
       "       False, False, False, False, False, False, False, False, False,\n",
       "       False, False, False, False, False, False, False, False, False,\n",
       "       False, False], dtype=bool)"
      ]
     },
     "execution_count": 21,
     "metadata": {},
     "output_type": "execute_result"
    }
   ],
   "source": [
    "goodRowsMask = nans.any(axis=1)\n",
    "goodRowsMask"
   ]
  },
  {
   "cell_type": "code",
   "execution_count": 22,
   "metadata": {
    "collapsed": false
   },
   "outputs": [
    {
     "data": {
      "text/plain": [
       "(6, 8)"
      ]
     },
     "execution_count": 22,
     "metadata": {},
     "output_type": "execute_result"
    }
   ],
   "source": [
    "dataNew = data[goodRowsMask,:]\n",
    "dataNew.shape"
   ]
  },
  {
   "cell_type": "markdown",
   "metadata": {},
   "source": [
    "Wait a minute!  This gives us only 6 samples.  We wanted all samples but these 6, right?"
   ]
  },
  {
   "cell_type": "code",
   "execution_count": 23,
   "metadata": {
    "collapsed": false
   },
   "outputs": [
    {
     "data": {
      "text/plain": [
       "array([[  2.50e+01,   4.00e+00,   9.80e+01,        nan,   2.05e+03,\n",
       "          1.90e+01,   7.10e+01,   1.00e+00],\n",
       "       [  2.10e+01,   6.00e+00,   2.00e+02,        nan,   2.88e+03,\n",
       "          1.70e+01,   7.40e+01,   1.00e+00],\n",
       "       [  4.09e+01,   4.00e+00,   8.50e+01,        nan,   1.84e+03,\n",
       "          1.73e+01,   8.00e+01,   2.00e+00],\n",
       "       [  2.36e+01,   4.00e+00,   1.40e+02,        nan,   2.90e+03,\n",
       "          1.43e+01,   8.00e+01,   1.00e+00],\n",
       "       [  3.45e+01,   4.00e+00,   1.00e+02,        nan,   2.32e+03,\n",
       "          1.58e+01,   8.10e+01,   2.00e+00],\n",
       "       [  2.30e+01,   4.00e+00,   1.51e+02,        nan,   3.04e+03,\n",
       "          2.05e+01,   8.20e+01,   1.00e+00]])"
      ]
     },
     "execution_count": 23,
     "metadata": {},
     "output_type": "execute_result"
    }
   ],
   "source": [
    "dataNew"
   ]
  },
  {
   "cell_type": "markdown",
   "metadata": {},
   "source": [
    "So, let's change all *False* values to *True* and *True* values to *False*."
   ]
  },
  {
   "cell_type": "code",
   "execution_count": 24,
   "metadata": {
    "collapsed": false
   },
   "outputs": [],
   "source": [
    "goodRowsMask = np.logical_not(goodRowsMask)"
   ]
  },
  {
   "cell_type": "code",
   "execution_count": 25,
   "metadata": {
    "collapsed": false
   },
   "outputs": [
    {
     "data": {
      "text/plain": [
       "(392, 8)"
      ]
     },
     "execution_count": 25,
     "metadata": {},
     "output_type": "execute_result"
    }
   ],
   "source": [
    "dataNew = data[goodRowsMask,:]\n",
    "dataNew.shape"
   ]
  },
  {
   "cell_type": "code",
   "execution_count": 26,
   "metadata": {
    "collapsed": false
   },
   "outputs": [
    {
     "data": {
      "text/plain": [
       "array([[  1.80e+01,   8.00e+00,   3.07e+02,   1.30e+02,   3.50e+03,\n",
       "          1.20e+01,   7.00e+01,   1.00e+00],\n",
       "       [  1.50e+01,   8.00e+00,   3.50e+02,   1.65e+02,   3.69e+03,\n",
       "          1.15e+01,   7.00e+01,   1.00e+00],\n",
       "       [  1.80e+01,   8.00e+00,   3.18e+02,   1.50e+02,   3.44e+03,\n",
       "          1.10e+01,   7.00e+01,   1.00e+00]])"
      ]
     },
     "execution_count": 26,
     "metadata": {},
     "output_type": "execute_result"
    }
   ],
   "source": [
    "dataNew[:3,:]"
   ]
  },
  {
   "cell_type": "code",
   "execution_count": 27,
   "metadata": {
    "collapsed": false
   },
   "outputs": [
    {
     "data": {
      "text/plain": [
       "array([0, 0, 0, 0, 0, 0, 0, 0])"
      ]
     },
     "execution_count": 27,
     "metadata": {},
     "output_type": "execute_result"
    }
   ],
   "source": [
    "np.sum(np.isnan(dataNew),axis=0)"
   ]
  },
  {
   "cell_type": "markdown",
   "metadata": {},
   "source": [
    "Remember, the next step after reading data into python is to visualize\n",
    "it.  One thing we can do is just plot the value of each attribute in a\n",
    "separate graph.  Let's make an array of column names to label the y axes."
   ]
  },
  {
   "cell_type": "code",
   "execution_count": 28,
   "metadata": {
    "collapsed": false
   },
   "outputs": [],
   "source": [
    "names =  ['mpg','cylinders','displacement','horsepower','weight',\n",
    "          'acceleration','year','origin']"
   ]
  },
  {
   "cell_type": "code",
   "execution_count": 29,
   "metadata": {
    "collapsed": false
   },
   "outputs": [
    {
     "data": {
      "image/png": "[encoded data removed]",
      "text/plain": [
       "<matplotlib.figure.Figure at 0x7fcae40ff310>"
      ]
     },
     "metadata": {},
     "output_type": "display_data"
    }
   ],
   "source": [
    "plt.figure(figsize=(10,10))\n",
    "nrow,ncol = dataNew.shape\n",
    "for c in range(ncol):\n",
    "    plt.subplot(3,3, c+1)\n",
    "    plt.plot(dataNew[:,c])\n",
    "    plt.ylabel(names[c])"
   ]
  },
  {
   "cell_type": "markdown",
   "metadata": {},
   "source": [
    "What is interesting to you in these graphs?"
   ]
  },
  {
   "cell_type": "markdown",
   "metadata": {},
   "source": [
    "Let's try to predict miles per gallon, *mpg*, from the other attributes.  To set this up, let's make a 392 x 1 column vector, *T*, of target values containing all of the *mpg* values, and a 392 x 7 matrix, *X*, to hold the inputs to our model."
   ]
  },
  {
   "cell_type": "code",
   "execution_count": 30,
   "metadata": {
    "collapsed": false
   },
   "outputs": [
    {
     "data": {
      "text/plain": [
       "['mpg',\n",
       " 'cylinders',\n",
       " 'displacement',\n",
       " 'horsepower',\n",
       " 'weight',\n",
       " 'acceleration',\n",
       " 'year',\n",
       " 'origin']"
      ]
     },
     "execution_count": 30,
     "metadata": {},
     "output_type": "execute_result"
    }
   ],
   "source": [
    "names"
   ]
  },
  {
   "cell_type": "code",
   "execution_count": 31,
   "metadata": {
    "collapsed": false
   },
   "outputs": [
    {
     "data": {
      "text/plain": [
       "array([[ 18. ],\n",
       "       [ 15. ],\n",
       "       [ 18. ],\n",
       "       [ 16. ],\n",
       "       [ 17. ],\n",
       "       [ 15. ],\n",
       "       [ 14. ],\n",
       "       [ 14. ],\n",
       "       [ 14. ],\n",
       "       [ 15. ],\n",
       "       [ 15. ],\n",
       "       [ 14. ],\n",
       "       [ 15. ],\n",
       "       [ 14. ],\n",
       "       [ 24. ],\n",
       "       [ 22. ],\n",
       "       [ 18. ],\n",
       "       [ 21. ],\n",
       "       [ 27. ],\n",
       "       [ 26. ],\n",
       "       [ 25. ],\n",
       "       [ 24. ],\n",
       "       [ 25. ],\n",
       "       [ 26. ],\n",
       "       [ 21. ],\n",
       "       [ 10. ],\n",
       "       [ 10. ],\n",
       "       [ 11. ],\n",
       "       [  9. ],\n",
       "       [ 27. ],\n",
       "       [ 28. ],\n",
       "       [ 25. ],\n",
       "       [ 19. ],\n",
       "       [ 16. ],\n",
       "       [ 17. ],\n",
       "       [ 19. ],\n",
       "       [ 18. ],\n",
       "       [ 14. ],\n",
       "       [ 14. ],\n",
       "       [ 14. ],\n",
       "       [ 14. ],\n",
       "       [ 12. ],\n",
       "       [ 13. ],\n",
       "       [ 13. ],\n",
       "       [ 18. ],\n",
       "       [ 22. ],\n",
       "       [ 19. ],\n",
       "       [ 18. ],\n",
       "       [ 23. ],\n",
       "       [ 28. ],\n",
       "       [ 30. ],\n",
       "       [ 30. ],\n",
       "       [ 31. ],\n",
       "       [ 35. ],\n",
       "       [ 27. ],\n",
       "       [ 26. ],\n",
       "       [ 24. ],\n",
       "       [ 25. ],\n",
       "       [ 23. ],\n",
       "       [ 20. ],\n",
       "       [ 21. ],\n",
       "       [ 13. ],\n",
       "       [ 14. ],\n",
       "       [ 15. ],\n",
       "       [ 14. ],\n",
       "       [ 17. ],\n",
       "       [ 11. ],\n",
       "       [ 13. ],\n",
       "       [ 12. ],\n",
       "       [ 13. ],\n",
       "       [ 19. ],\n",
       "       [ 15. ],\n",
       "       [ 13. ],\n",
       "       [ 13. ],\n",
       "       [ 14. ],\n",
       "       [ 18. ],\n",
       "       [ 22. ],\n",
       "       [ 21. ],\n",
       "       [ 26. ],\n",
       "       [ 22. ],\n",
       "       [ 28. ],\n",
       "       [ 23. ],\n",
       "       [ 28. ],\n",
       "       [ 27. ],\n",
       "       [ 13. ],\n",
       "       [ 14. ],\n",
       "       [ 13. ],\n",
       "       [ 14. ],\n",
       "       [ 15. ],\n",
       "       [ 12. ],\n",
       "       [ 13. ],\n",
       "       [ 13. ],\n",
       "       [ 14. ],\n",
       "       [ 13. ],\n",
       "       [ 12. ],\n",
       "       [ 13. ],\n",
       "       [ 18. ],\n",
       "       [ 16. ],\n",
       "       [ 18. ],\n",
       "       [ 18. ],\n",
       "       [ 23. ],\n",
       "       [ 26. ],\n",
       "       [ 11. ],\n",
       "       [ 12. ],\n",
       "       [ 13. ],\n",
       "       [ 12. ],\n",
       "       [ 18. ],\n",
       "       [ 20. ],\n",
       "       [ 21. ],\n",
       "       [ 22. ],\n",
       "       [ 18. ],\n",
       "       [ 19. ],\n",
       "       [ 21. ],\n",
       "       [ 26. ],\n",
       "       [ 15. ],\n",
       "       [ 16. ],\n",
       "       [ 29. ],\n",
       "       [ 24. ],\n",
       "       [ 20. ],\n",
       "       [ 19. ],\n",
       "       [ 15. ],\n",
       "       [ 24. ],\n",
       "       [ 20. ],\n",
       "       [ 11. ],\n",
       "       [ 20. ],\n",
       "       [ 19. ],\n",
       "       [ 15. ],\n",
       "       [ 31. ],\n",
       "       [ 26. ],\n",
       "       [ 32. ],\n",
       "       [ 25. ],\n",
       "       [ 16. ],\n",
       "       [ 16. ],\n",
       "       [ 18. ],\n",
       "       [ 16. ],\n",
       "       [ 13. ],\n",
       "       [ 14. ],\n",
       "       [ 14. ],\n",
       "       [ 14. ],\n",
       "       [ 29. ],\n",
       "       [ 26. ],\n",
       "       [ 26. ],\n",
       "       [ 31. ],\n",
       "       [ 32. ],\n",
       "       [ 28. ],\n",
       "       [ 24. ],\n",
       "       [ 26. ],\n",
       "       [ 24. ],\n",
       "       [ 26. ],\n",
       "       [ 31. ],\n",
       "       [ 19. ],\n",
       "       [ 18. ],\n",
       "       [ 15. ],\n",
       "       [ 15. ],\n",
       "       [ 16. ],\n",
       "       [ 15. ],\n",
       "       [ 16. ],\n",
       "       [ 14. ],\n",
       "       [ 17. ],\n",
       "       [ 16. ],\n",
       "       [ 15. ],\n",
       "       [ 18. ],\n",
       "       [ 21. ],\n",
       "       [ 20. ],\n",
       "       [ 13. ],\n",
       "       [ 29. ],\n",
       "       [ 23. ],\n",
       "       [ 20. ],\n",
       "       [ 23. ],\n",
       "       [ 24. ],\n",
       "       [ 25. ],\n",
       "       [ 24. ],\n",
       "       [ 18. ],\n",
       "       [ 29. ],\n",
       "       [ 19. ],\n",
       "       [ 23. ],\n",
       "       [ 23. ],\n",
       "       [ 22. ],\n",
       "       [ 25. ],\n",
       "       [ 33. ],\n",
       "       [ 28. ],\n",
       "       [ 25. ],\n",
       "       [ 25. ],\n",
       "       [ 26. ],\n",
       "       [ 27. ],\n",
       "       [ 17.5],\n",
       "       [ 16. ],\n",
       "       [ 15.5],\n",
       "       [ 14.5],\n",
       "       [ 22. ],\n",
       "       [ 22. ],\n",
       "       [ 24. ],\n",
       "       [ 22.5],\n",
       "       [ 29. ],\n",
       "       [ 24.5],\n",
       "       [ 29. ],\n",
       "       [ 33. ],\n",
       "       [ 20. ],\n",
       "       [ 18. ],\n",
       "       [ 18.5],\n",
       "       [ 17.5],\n",
       "       [ 29.5],\n",
       "       [ 32. ],\n",
       "       [ 28. ],\n",
       "       [ 26.5],\n",
       "       [ 20. ],\n",
       "       [ 13. ],\n",
       "       [ 19. ],\n",
       "       [ 19. ],\n",
       "       [ 16.5],\n",
       "       [ 16.5],\n",
       "       [ 13. ],\n",
       "       [ 13. ],\n",
       "       [ 13. ],\n",
       "       [ 31.5],\n",
       "       [ 30. ],\n",
       "       [ 36. ],\n",
       "       [ 25.5],\n",
       "       [ 33.5],\n",
       "       [ 17.5],\n",
       "       [ 17. ],\n",
       "       [ 15.5],\n",
       "       [ 15. ],\n",
       "       [ 17.5],\n",
       "       [ 20.5],\n",
       "       [ 19. ],\n",
       "       [ 18.5],\n",
       "       [ 16. ],\n",
       "       [ 15.5],\n",
       "       [ 15.5],\n",
       "       [ 16. ],\n",
       "       [ 29. ],\n",
       "       [ 24.5],\n",
       "       [ 26. ],\n",
       "       [ 25.5],\n",
       "       [ 30.5],\n",
       "       [ 33.5],\n",
       "       [ 30. ],\n",
       "       [ 30.5],\n",
       "       [ 22. ],\n",
       "       [ 21.5],\n",
       "       [ 21.5],\n",
       "       [ 43.1],\n",
       "       [ 36.1],\n",
       "       [ 32.8],\n",
       "       [ 39.4],\n",
       "       [ 36.1],\n",
       "       [ 19.9],\n",
       "       [ 19.4],\n",
       "       [ 20.2],\n",
       "       [ 19.2],\n",
       "       [ 20.5],\n",
       "       [ 20.2],\n",
       "       [ 25.1],\n",
       "       [ 20.5],\n",
       "       [ 19.4],\n",
       "       [ 20.6],\n",
       "       [ 20.8],\n",
       "       [ 18.6],\n",
       "       [ 18.1],\n",
       "       [ 19.2],\n",
       "       [ 17.7],\n",
       "       [ 18.1],\n",
       "       [ 17.5],\n",
       "       [ 30. ],\n",
       "       [ 27.5],\n",
       "       [ 27.2],\n",
       "       [ 30.9],\n",
       "       [ 21.1],\n",
       "       [ 23.2],\n",
       "       [ 23.8],\n",
       "       [ 23.9],\n",
       "       [ 20.3],\n",
       "       [ 17. ],\n",
       "       [ 21.6],\n",
       "       [ 16.2],\n",
       "       [ 31.5],\n",
       "       [ 29.5],\n",
       "       [ 21.5],\n",
       "       [ 19.8],\n",
       "       [ 22.3],\n",
       "       [ 20.2],\n",
       "       [ 20.6],\n",
       "       [ 17. ],\n",
       "       [ 17.6],\n",
       "       [ 16.5],\n",
       "       [ 18.2],\n",
       "       [ 16.9],\n",
       "       [ 15.5],\n",
       "       [ 19.2],\n",
       "       [ 18.5],\n",
       "       [ 31.9],\n",
       "       [ 34.1],\n",
       "       [ 35.7],\n",
       "       [ 27.4],\n",
       "       [ 25.4],\n",
       "       [ 23. ],\n",
       "       [ 27.2],\n",
       "       [ 23.9],\n",
       "       [ 34.2],\n",
       "       [ 34.5],\n",
       "       [ 31.8],\n",
       "       [ 37.3],\n",
       "       [ 28.4],\n",
       "       [ 28.8],\n",
       "       [ 26.8],\n",
       "       [ 33.5],\n",
       "       [ 41.5],\n",
       "       [ 38.1],\n",
       "       [ 32.1],\n",
       "       [ 37.2],\n",
       "       [ 28. ],\n",
       "       [ 26.4],\n",
       "       [ 24.3],\n",
       "       [ 19.1],\n",
       "       [ 34.3],\n",
       "       [ 29.8],\n",
       "       [ 31.3],\n",
       "       [ 37. ],\n",
       "       [ 32.2],\n",
       "       [ 46.6],\n",
       "       [ 27.9],\n",
       "       [ 40.8],\n",
       "       [ 44.3],\n",
       "       [ 43.4],\n",
       "       [ 36.4],\n",
       "       [ 30. ],\n",
       "       [ 44.6],\n",
       "       [ 33.8],\n",
       "       [ 29.8],\n",
       "       [ 32.7],\n",
       "       [ 23.7],\n",
       "       [ 35. ],\n",
       "       [ 32.4],\n",
       "       [ 27.2],\n",
       "       [ 26.6],\n",
       "       [ 25.8],\n",
       "       [ 23.5],\n",
       "       [ 30. ],\n",
       "       [ 39.1],\n",
       "       [ 39. ],\n",
       "       [ 35.1],\n",
       "       [ 32.3],\n",
       "       [ 37. ],\n",
       "       [ 37.7],\n",
       "       [ 34.1],\n",
       "       [ 34.7],\n",
       "       [ 34.4],\n",
       "       [ 29.9],\n",
       "       [ 33. ],\n",
       "       [ 33.7],\n",
       "       [ 32.4],\n",
       "       [ 32.9],\n",
       "       [ 31.6],\n",
       "       [ 28.1],\n",
       "       [ 30.7],\n",
       "       [ 25.4],\n",
       "       [ 24.2],\n",
       "       [ 22.4],\n",
       "       [ 26.6],\n",
       "       [ 20.2],\n",
       "       [ 17.6],\n",
       "       [ 28. ],\n",
       "       [ 27. ],\n",
       "       [ 34. ],\n",
       "       [ 31. ],\n",
       "       [ 29. ],\n",
       "       [ 27. ],\n",
       "       [ 24. ],\n",
       "       [ 36. ],\n",
       "       [ 37. ],\n",
       "       [ 31. ],\n",
       "       [ 38. ],\n",
       "       [ 36. ],\n",
       "       [ 36. ],\n",
       "       [ 36. ],\n",
       "       [ 34. ],\n",
       "       [ 38. ],\n",
       "       [ 32. ],\n",
       "       [ 38. ],\n",
       "       [ 25. ],\n",
       "       [ 38. ],\n",
       "       [ 26. ],\n",
       "       [ 22. ],\n",
       "       [ 32. ],\n",
       "       [ 36. ],\n",
       "       [ 27. ],\n",
       "       [ 27. ],\n",
       "       [ 44. ],\n",
       "       [ 32. ],\n",
       "       [ 28. ],\n",
       "       [ 31. ]])"
      ]
     },
     "execution_count": 31,
     "metadata": {},
     "output_type": "execute_result"
    }
   ],
   "source": [
    "T = dataNew[:, 0:1] \n",
    "T\n",
    "\n",
    "# dataNew[:,0] results in a one-dimensional matrix, dataNew[:,0:1] preserves its two-dimensional nature."
   ]
  },
  {
   "cell_type": "code",
   "execution_count": 32,
   "metadata": {
    "collapsed": false
   },
   "outputs": [],
   "source": [
    "X = dataNew[:, 1:]"
   ]
  },
  {
   "cell_type": "code",
   "execution_count": 33,
   "metadata": {
    "collapsed": false
   },
   "outputs": [
    {
     "data": {
      "text/plain": [
       "((392, 7), (392, 1))"
      ]
     },
     "execution_count": 33,
     "metadata": {},
     "output_type": "execute_result"
    }
   ],
   "source": [
    "X.shape, T.shape"
   ]
  },
  {
   "cell_type": "code",
   "execution_count": 34,
   "metadata": {
    "collapsed": false
   },
   "outputs": [
    {
     "data": {
      "text/plain": [
       "(['cylinders',\n",
       "  'displacement',\n",
       "  'horsepower',\n",
       "  'weight',\n",
       "  'acceleration',\n",
       "  'year',\n",
       "  'origin'],\n",
       " 'mpg')"
      ]
     },
     "execution_count": 34,
     "metadata": {},
     "output_type": "execute_result"
    }
   ],
   "source": [
    "Xnames = names[1:]\n",
    "Tname = names[0]\n",
    "Xnames,Tname"
   ]
  },
  {
   "cell_type": "markdown",
   "metadata": {},
   "source": [
    "Now, let's see if a linear model makes some sense by plotting the target values versus each of the input variables."
   ]
  },
  {
   "cell_type": "code",
   "execution_count": 35,
   "metadata": {
    "collapsed": false
   },
   "outputs": [
    {
     "data": {
      "image/png": "[encoded data removed]",
      "text/plain": [
       "<matplotlib.figure.Figure at 0x7fcac3a365d0>"
      ]
     },
     "metadata": {},
     "output_type": "display_data"
    }
   ],
   "source": [
    "plt.figure(figsize=(10,10))\n",
    "for c in range(X.shape[1]):\n",
    "    plt.subplot(3,3, c+1)\n",
    "    plt.plot(X[:,c], T, 'o', alpha=0.4)\n",
    "    plt.ylabel(Tname)\n",
    "    plt.xlabel(Xnames[c])"
   ]
  },
  {
   "cell_type": "markdown",
   "metadata": {},
   "source": [
    "What do you think?  Are there any linear relationships between the individual input variables and the target variable?  Do they make sense, given your knowledge of automobiles?\n",
    "\n",
    "Now, to build the linear model.  First, let's tack on a column of constant 1 values to the left side of *X*.  With this addition, our matrix multiplication takes care of the $w_0$ coefficient as described above."
   ]
  },
  {
   "cell_type": "code",
   "execution_count": 36,
   "metadata": {
    "collapsed": false
   },
   "outputs": [
    {
     "data": {
      "text/plain": [
       "((392, 7), (392, 8))"
      ]
     },
     "execution_count": 36,
     "metadata": {},
     "output_type": "execute_result"
    }
   ],
   "source": [
    "X1 = np.hstack((np.ones((X.shape[0],1)), X))\n",
    "X.shape, X1.shape"
   ]
  },
  {
   "cell_type": "code",
   "execution_count": 37,
   "metadata": {
    "collapsed": false
   },
   "outputs": [
    {
     "data": {
      "text/plain": [
       "array([[  1.00e+00,   8.00e+00,   3.07e+02,   1.30e+02,   3.50e+03,\n",
       "          1.20e+01,   7.00e+01,   1.00e+00],\n",
       "       [  1.00e+00,   8.00e+00,   3.50e+02,   1.65e+02,   3.69e+03,\n",
       "          1.15e+01,   7.00e+01,   1.00e+00],\n",
       "       [  1.00e+00,   8.00e+00,   3.18e+02,   1.50e+02,   3.44e+03,\n",
       "          1.10e+01,   7.00e+01,   1.00e+00]])"
      ]
     },
     "execution_count": 37,
     "metadata": {},
     "output_type": "execute_result"
    }
   ],
   "source": [
    "X1[:3,:]"
   ]
  },
  {
   "cell_type": "markdown",
   "metadata": {},
   "source": [
    "And, let's add a name to *Xnames*."
   ]
  },
  {
   "cell_type": "code",
   "execution_count": 38,
   "metadata": {
    "collapsed": false
   },
   "outputs": [
    {
     "data": {
      "text/plain": [
       "['bias',\n",
       " 'cylinders',\n",
       " 'displacement',\n",
       " 'horsepower',\n",
       " 'weight',\n",
       " 'acceleration',\n",
       " 'year',\n",
       " 'origin']"
      ]
     },
     "execution_count": 38,
     "metadata": {},
     "output_type": "execute_result"
    }
   ],
   "source": [
    "Xnames.insert(0, 'bias')\n",
    "Xnames"
   ]
  },
  {
   "cell_type": "markdown",
   "metadata": {},
   "source": [
    "We could try to fit a linear model to all of the data and check to see\n",
    "how accurately we predict *mpg* for each sample.  However, this will\n",
    "give a much too optimistic expectation of how well the model will do\n",
    "on new data.\n",
    "\n",
    "A much better way to evaluate a model is to remove, or hold out, some\n",
    "of the samples from the data set used to fit the model.  Then apply\n",
    "the model to the held out samples and compare the predicted *mpg*\n",
    "with the actual *mpg*.  Call these held out samples the **test set**\n",
    "and the other samples used to fit the model the **train set**.  \n",
    "\n",
    "How should we partition the data into these two disjoint subsets?  A\n",
    "common practice is to randomly select 80% of the samples as training\n",
    "samples and use the remaining 20% of the samples as testing samples.\n",
    "\n",
    "To partition our samples (rows of *X* and *T*) into training and test sets, let's deal with just the row indices.  Then we will use the same selected row indices to slice out corresponding rows of *X* and *T*."
   ]
  },
  {
   "cell_type": "code",
   "execution_count": 39,
   "metadata": {
    "collapsed": false
   },
   "outputs": [
    {
     "data": {
      "text/plain": [
       "(314, 78, 392)"
      ]
     },
     "execution_count": 39,
     "metadata": {},
     "output_type": "execute_result"
    }
   ],
   "source": [
    "nrows = X1.shape[0]\n",
    "nTrain = int(round(nrow*0.8))\n",
    "nTest = nrow - nTrain\n",
    "nTrain,nTest,nTrain+nTest"
   ]
  },
  {
   "cell_type": "code",
   "execution_count": 40,
   "metadata": {
    "collapsed": false
   },
   "outputs": [
    {
     "data": {
      "text/plain": [
       "array([240,  43, 359, 197, 135, 120, 378,  22, 257, 188, 332, 225, 131,\n",
       "       382,  91,  21, 321, 292,  81,  50, 117, 286,  84, 287,  34, 295,\n",
       "        27, 166, 132,   2, 125, 320,  26, 288, 242,  32, 325, 245, 207,\n",
       "       164, 275, 290, 115,  57, 241, 124, 236, 354, 322, 358, 246, 105,\n",
       "       208, 309, 373, 264, 168,  99, 334, 218, 312, 352, 333, 249,  98,\n",
       "       112, 154, 265, 344, 291,  46,  49, 306, 274,  93, 237, 364, 133,\n",
       "       299, 209,  75, 161, 370, 300, 141, 127, 182, 163, 147,  23,  77,\n",
       "        73, 255, 139, 162, 385, 261,   3, 119, 118, 151, 294,  19, 156,\n",
       "       308, 140, 179, 145, 126, 212, 144,  52, 116, 214, 376, 175, 195,\n",
       "       158,  76, 193, 381, 201,  66,  64, 134,  63, 391,  67, 138, 368,\n",
       "        12, 340, 316, 388,  37, 256, 101,  39, 390, 330,  55, 346, 355,\n",
       "        54, 366, 196, 203,  88,  68, 260,  58, 273, 279, 191, 231, 350,\n",
       "        28,  74, 296, 200, 298,  65, 342, 157, 247,   0,  11,  89, 190,\n",
       "         5,  82, 389, 110, 313, 180, 356, 272, 377, 192, 263, 169, 365,\n",
       "       103, 361, 386, 375,  14, 324, 205,   6, 187, 114, 155, 244, 108,\n",
       "       226, 173, 310, 232, 165, 384,  10, 281, 349,  30, 258, 314, 217,\n",
       "       186, 239, 113, 297, 130, 357,  29,  90, 233, 336,  13, 315, 176,\n",
       "       143, 302, 383, 142, 367, 371, 198, 326,  87, 149, 153, 360,  92,\n",
       "       387,  16, 283, 248, 329,  79, 303, 136, 362,  41, 215, 318, 337,\n",
       "       270,  17, 278, 137, 374, 160, 304, 347, 100, 148,  24,  96, 379,\n",
       "       289, 363, 331, 317, 109,  18, 343, 129, 345, 335, 235,  60,  95,\n",
       "       243, 351, 102,  33, 224, 150,   1, 285, 199, 122, 268, 348,  70,\n",
       "       229, 202, 323,   7, 210,  56,  62,  85, 213, 216, 159, 234, 267,\n",
       "        42,  72, 128, 104, 146, 341, 266, 339, 238,  69,   4,  94, 269,\n",
       "       327, 185, 293, 253, 152, 259, 220,  35,  61, 123, 184,  86, 167,\n",
       "        83, 271, 369,  47, 189, 211, 301, 227,   8, 307,  78, 353, 338,\n",
       "       170,  97, 204, 251, 121, 372, 380,  36, 280,  44, 277, 178,  71,\n",
       "       230, 111, 219, 177,  38, 223,  20, 172, 222, 254, 262,  31, 107,\n",
       "        53, 305, 250, 106,  80, 228,  59, 282, 319, 194, 206, 276, 171,\n",
       "        15,  51, 174, 328, 284,   9, 221,  25, 311, 181, 252,  40,  45,\n",
       "        48, 183])"
      ]
     },
     "execution_count": 40,
     "metadata": {},
     "output_type": "execute_result"
    }
   ],
   "source": [
    "rows = np.arange(nrows)\n",
    "np.random.shuffle(rows)\n",
    "rows"
   ]
  },
  {
   "cell_type": "code",
   "execution_count": 41,
   "metadata": {
    "collapsed": false,
    "scrolled": false
   },
   "outputs": [
    {
     "data": {
      "text/plain": [
       "(array([240,  43, 359, 197, 135, 120, 378,  22, 257, 188, 332, 225, 131,\n",
       "        382,  91,  21, 321, 292,  81,  50, 117, 286,  84, 287,  34, 295,\n",
       "         27, 166, 132,   2, 125, 320,  26, 288, 242,  32, 325, 245, 207,\n",
       "        164, 275, 290, 115,  57, 241, 124, 236, 354, 322, 358, 246, 105,\n",
       "        208, 309, 373, 264, 168,  99, 334, 218, 312, 352, 333, 249,  98,\n",
       "        112, 154, 265, 344, 291,  46,  49, 306, 274,  93, 237, 364, 133,\n",
       "        299, 209,  75, 161, 370, 300, 141, 127, 182, 163, 147,  23,  77,\n",
       "         73, 255, 139, 162, 385, 261,   3, 119, 118, 151, 294,  19, 156,\n",
       "        308, 140, 179, 145, 126, 212, 144,  52, 116, 214, 376, 175, 195,\n",
       "        158,  76, 193, 381, 201,  66,  64, 134,  63, 391,  67, 138, 368,\n",
       "         12, 340, 316, 388,  37, 256, 101,  39, 390, 330,  55, 346, 355,\n",
       "         54, 366, 196, 203,  88,  68, 260,  58, 273, 279, 191, 231, 350,\n",
       "         28,  74, 296, 200, 298,  65, 342, 157, 247,   0,  11,  89, 190,\n",
       "          5,  82, 389, 110, 313, 180, 356, 272, 377, 192, 263, 169, 365,\n",
       "        103, 361, 386, 375,  14, 324, 205,   6, 187, 114, 155, 244, 108,\n",
       "        226, 173, 310, 232, 165, 384,  10, 281, 349,  30, 258, 314, 217,\n",
       "        186, 239, 113, 297, 130, 357,  29,  90, 233, 336,  13, 315, 176,\n",
       "        143, 302, 383, 142, 367, 371, 198, 326,  87, 149, 153, 360,  92,\n",
       "        387,  16, 283, 248, 329,  79, 303, 136, 362,  41, 215, 318, 337,\n",
       "        270,  17, 278, 137, 374, 160, 304, 347, 100, 148,  24,  96, 379,\n",
       "        289, 363, 331, 317, 109,  18, 343, 129, 345, 335, 235,  60,  95,\n",
       "        243, 351, 102,  33, 224, 150,   1, 285, 199, 122, 268, 348,  70,\n",
       "        229, 202, 323,   7, 210,  56,  62,  85, 213, 216, 159, 234, 267,\n",
       "         42,  72, 128, 104, 146, 341, 266, 339, 238,  69,   4,  94, 269,\n",
       "        327, 185]),\n",
       " array([293, 253, 152, 259, 220,  35,  61, 123, 184,  86, 167,  83, 271,\n",
       "        369,  47, 189, 211, 301, 227,   8, 307,  78, 353, 338, 170,  97,\n",
       "        204, 251, 121, 372, 380,  36, 280,  44, 277, 178,  71, 230, 111,\n",
       "        219, 177,  38, 223,  20, 172, 222, 254, 262,  31, 107,  53, 305,\n",
       "        250, 106,  80, 228,  59, 282, 319, 194, 206, 276, 171,  15,  51,\n",
       "        174, 328, 284,   9, 221,  25, 311, 181, 252,  40,  45,  48, 183]))"
      ]
     },
     "execution_count": 41,
     "metadata": {},
     "output_type": "execute_result"
    }
   ],
   "source": [
    "trainIndices = rows[:nTrain]\n",
    "testIndices = rows[nTrain:]\n",
    "trainIndices,testIndices"
   ]
  },
  {
   "cell_type": "markdown",
   "metadata": {},
   "source": [
    "Check that the training and testing sets are disjoint."
   ]
  },
  {
   "cell_type": "code",
   "execution_count": 42,
   "metadata": {
    "collapsed": false
   },
   "outputs": [
    {
     "data": {
      "text/plain": [
       "array([], dtype=int64)"
      ]
     },
     "execution_count": 42,
     "metadata": {},
     "output_type": "execute_result"
    }
   ],
   "source": [
    "np.intersect1d(trainIndices, testIndices)"
   ]
  },
  {
   "cell_type": "code",
   "execution_count": 43,
   "metadata": {
    "collapsed": false
   },
   "outputs": [
    {
     "data": {
      "text/plain": [
       "((314, 8), (314, 1), (78, 8), (78, 1))"
      ]
     },
     "execution_count": 43,
     "metadata": {},
     "output_type": "execute_result"
    }
   ],
   "source": [
    "Xtrain = X1[trainIndices,:]\n",
    "Ttrain = T[trainIndices,:]\n",
    "Xtest = X1[testIndices,:]\n",
    "Ttest = T[testIndices,:]\n",
    "Xtrain.shape,Ttrain.shape, Xtest.shape,Ttest.shape"
   ]
  },
  {
   "cell_type": "markdown",
   "metadata": {},
   "source": [
    "We want to solve for $\\wv$ in the equation  $X^T X \\wv =  X^T T$.\n",
    "This is done with the *numpy.linalg.lstsq* function.  Don't be confused by the *T*s.  Remember *something.T* is the\n",
    "transpose of *something*."
   ]
  },
  {
   "cell_type": "code",
   "execution_count": 44,
   "metadata": {
    "collapsed": false
   },
   "outputs": [
    {
     "data": {
      "text/plain": [
       "array([[ -1.97e+01],\n",
       "       [ -4.72e-01],\n",
       "       [  2.41e-02],\n",
       "       [ -1.71e-02],\n",
       "       [ -6.78e-03],\n",
       "       [  1.88e-01],\n",
       "       [  7.63e-01],\n",
       "       [  1.43e+00]])"
      ]
     },
     "execution_count": 44,
     "metadata": {},
     "output_type": "execute_result"
    }
   ],
   "source": [
    "w = np.linalg.lstsq(np.dot(Xtrain.T,Xtrain), np.dot(Xtrain.T, Ttrain))\n",
    "w = w[0] # to only keep the weights, and discard other information returned by lstsq\n",
    "w"
   ]
  },
  {
   "cell_type": "code",
   "execution_count": 45,
   "metadata": {
    "collapsed": false
   },
   "outputs": [
    {
     "name": "stdout",
     "output_type": "stream",
     "text": [
      " -19.703  bias\n",
      "  -0.472  cylinders\n",
      "   0.024  displacement\n",
      "  -0.017  horsepower\n",
      "  -0.007  weight\n",
      "   0.188  acceleration\n",
      "   0.763  year\n",
      "   1.427  origin\n"
     ]
    }
   ],
   "source": [
    "for wi,name in zip(w.flat,Xnames):\n",
    "    print('{:8.3f}  {:s}'.format(wi,name))"
   ]
  },
  {
   "cell_type": "markdown",
   "metadata": {},
   "source": [
    "How can you figure out what *np.linalg.lstsq* is doing?  Try finding the source code!"
   ]
  },
  {
   "cell_type": "code",
   "execution_count": 46,
   "metadata": {
    "collapsed": false
   },
   "outputs": [
    {
     "name": "stdout",
     "output_type": "stream",
     "text": [
      "/usr/lib64/python2.7/site-packages/numpy/linalg/linalg.py\n",
      "/usr/lib64/python2.7/site-packages/numpy/linalg/linalg.pyc\n",
      "/usr/lib64/python2.7/site-packages/numpy/linalg/linalg.pyo\n",
      "/usr/lib64/python2.7/site-packages/numpy/linalg/tests/test_linalg.py\n",
      "/usr/lib64/python2.7/site-packages/numpy/linalg/tests/test_linalg.pyc\n",
      "/usr/lib64/python2.7/site-packages/numpy/linalg/tests/test_linalg.pyo\n",
      "/usr/lib64/python2.7/site-packages/scipy/linalg/flinalg.py\n",
      "/usr/lib64/python2.7/site-packages/scipy/linalg/flinalg.pyc\n",
      "/usr/lib64/python2.7/site-packages/scipy/linalg/flinalg.pyo\n",
      "/usr/lib64/python3.4/site-packages/numpy/linalg/linalg.py\n",
      "/usr/lib64/python3.4/site-packages/numpy/linalg/tests/test_linalg.py\n"
     ]
    }
   ],
   "source": [
    "!locate linalg.py\n",
    "np.linalg?"
   ]
  },
  {
   "cell_type": "markdown",
   "metadata": {},
   "source": [
    "In my version I see documentation for *lstsq* that states\n",
    "\n",
    "    Return the least-squares solution to a linear matrix equation.\n",
    "\n",
    "    Solves the equation `a x = b` by computing a vector `x` that\n",
    "    minimizes the Euclidean 2-norm `|| b - a x ||^2`.  The equation may\n",
    "    be under-, well-, or over- determined (i.e., the number of\n",
    "    linearly independent rows of `a` can be less than, equal to, or\n",
    "    greater than its number of linearly independent columns).  If `a`\n",
    "    is square and of full rank, then `x` (but for round-off error) is\n",
    "    the \"exact\" solution of the equation.\n"
   ]
  },
  {
   "cell_type": "markdown",
   "metadata": {},
   "source": [
    "Now that we have a linear model, which is simply $w$, let's use it to predict *mpg* for some samples."
   ]
  },
  {
   "cell_type": "code",
   "execution_count": 47,
   "metadata": {
    "collapsed": false
   },
   "outputs": [
    {
     "data": {
      "text/plain": [
       "array([[ 15.08],\n",
       "       [ 14.14],\n",
       "       [ 15.27],\n",
       "       [ 15.15]])"
      ]
     },
     "execution_count": 47,
     "metadata": {},
     "output_type": "execute_result"
    }
   ],
   "source": [
    "predict = np.dot(X1[:4,:],w)\n",
    "predict"
   ]
  },
  {
   "cell_type": "markdown",
   "metadata": {},
   "source": [
    "How do these predictions compare with the actual *mpg* values?  We can either make a two column matrix, or use a *for* loop to print them."
   ]
  },
  {
   "cell_type": "code",
   "execution_count": 48,
   "metadata": {
    "collapsed": false
   },
   "outputs": [
    {
     "data": {
      "text/plain": [
       "array([[ 15.08,  21.5 ],\n",
       "       [ 14.14,  13.  ],\n",
       "       [ 15.27,  26.6 ],\n",
       "       [ 15.15,  20.  ]])"
      ]
     },
     "execution_count": 48,
     "metadata": {},
     "output_type": "execute_result"
    }
   ],
   "source": [
    "np.hstack(( predict, Ttrain[:4,:]))"
   ]
  },
  {
   "cell_type": "code",
   "execution_count": 49,
   "metadata": {
    "collapsed": false
   },
   "outputs": [
    {
     "name": "stdout",
     "output_type": "stream",
     "text": [
      "  P     T  \n",
      "15.08 21.50\n",
      "14.14 13.00\n",
      "15.27 26.60\n",
      "15.15 20.00\n"
     ]
    }
   ],
   "source": [
    "print('{:^5} {:^5}'.format('P','T'))\n",
    "for (p,t) in zip(predict,Ttrain[0:4,:]):\n",
    "    # print(p,t)\n",
    "    print('{:5.2f} {:5.2f}'.format(p[0],t[0]))"
   ]
  },
  {
   "cell_type": "markdown",
   "metadata": {},
   "source": [
    "Let's try all of the test data and plot the results."
   ]
  },
  {
   "cell_type": "code",
   "execution_count": 50,
   "metadata": {
    "collapsed": false
   },
   "outputs": [
    {
     "data": {
      "text/plain": [
       "((78, 1), (78, 1))"
      ]
     },
     "execution_count": 50,
     "metadata": {},
     "output_type": "execute_result"
    }
   ],
   "source": [
    "predict = np.dot(Xtest, w)\n",
    "predict.shape, Ttest.shape"
   ]
  },
  {
   "cell_type": "code",
   "execution_count": 51,
   "metadata": {
    "collapsed": false
   },
   "outputs": [
    {
     "data": {
      "image/png": "[encoded data removed]",
      "text/plain": [
       "<matplotlib.figure.Figure at 0x7fcac3453bd0>"
      ]
     },
     "metadata": {},
     "output_type": "display_data"
    }
   ],
   "source": [
    "plt.plot(predict,Ttest,'o')\n",
    "plt.xlabel('Predicted MPG')\n",
    "plt.ylabel('Actual MPG')\n",
    "# add a 45 degree line\n",
    "a = max(min(predict),min(Ttest))\n",
    "b = min(max(predict),max(Ttest))\n",
    "plt.plot([a,b],[a,b], 'r', linewidth=3,alpha=0.7);"
   ]
  },
  {
   "cell_type": "markdown",
   "metadata": {},
   "source": [
    "Not too shabby!  But, how about a numerical measure of accuracy?  \n",
    "\n",
    "Right, just calculate the root-mean-square error (RMSE)."
   ]
  },
  {
   "cell_type": "code",
   "execution_count": 52,
   "metadata": {
    "collapsed": false
   },
   "outputs": [
    {
     "data": {
      "text/plain": [
       "3.18"
      ]
     },
     "execution_count": 52,
     "metadata": {},
     "output_type": "execute_result"
    }
   ],
   "source": [
    "np.sqrt( np.mean( (np.dot(Xtest,w) - Ttest)**2))"
   ]
  },
  {
   "cell_type": "markdown",
   "metadata": {},
   "source": [
    "This means we are about 2.8 mpg off in our predictions, on average."
   ]
  },
  {
   "cell_type": "markdown",
   "metadata": {},
   "source": [
    "## Importance of Attributes (Input Variables)"
   ]
  },
  {
   "cell_type": "markdown",
   "metadata": {},
   "source": [
    "Here again are the weights we learned before for predicting *mpg*.\n",
    "Can we use these to decide which attibutes are most important?  Can\n",
    "we remove some from the model?\n"
   ]
  },
  {
   "cell_type": "code",
   "execution_count": 53,
   "metadata": {
    "collapsed": false
   },
   "outputs": [
    {
     "name": "stdout",
     "output_type": "stream",
     "text": [
      " -19.703  bias\n",
      "  -0.472  cylinders\n",
      "   0.024  displacement\n",
      "  -0.017  horsepower\n",
      "  -0.007  weight\n",
      "   0.188  acceleration\n",
      "   0.763  year\n",
      "   1.427  origin\n"
     ]
    }
   ],
   "source": [
    "for wi,name in zip(w.flat,Xnames):\n",
    "    print('{:8.3f}  {:s}'.format(wi,name))"
   ]
  },
  {
   "cell_type": "markdown",
   "metadata": {},
   "source": [
    "Perhaps year and origin are the most significant.  Does this make sense?\n",
    "\n",
    "A weight\n",
    "magnitude is determined not only by the linear relationship between the corresponding input variable with\n",
    "the target, but also by the variable's range.\n",
    "\n",
    "What are the ranges of the input variables?"
   ]
  },
  {
   "cell_type": "code",
   "execution_count": 54,
   "metadata": {
    "collapsed": false
   },
   "outputs": [
    {
     "name": "stdout",
     "output_type": "stream",
     "text": [
      "                bias     1.00     1.00\n",
      "           cylinders     3.00     8.00\n",
      "        displacement    68.00   455.00\n",
      "          horsepower    46.00   230.00\n",
      "              weight  1613.00  5140.00\n",
      "        acceleration     8.00    24.80\n",
      "                year    70.00    82.00\n",
      "              origin     1.00     3.00\n"
     ]
    }
   ],
   "source": [
    "for n,mn,mx in zip(Xnames,np.min(X1,axis=0),np.max(X1,axis=0)):\n",
    "    print('{:>20} {:8.2f} {:8.2f}'.format(n,mn,mx))"
   ]
  },
  {
   "cell_type": "markdown",
   "metadata": {},
   "source": [
    "The weight for *weight* is the smallest magnitude, but the range of its values are the largest.\n",
    "\n",
    "The weight for *origin* is the largest, but the range of its values are the smallest."
   ]
  },
  {
   "cell_type": "markdown",
   "metadata": {},
   "source": [
    "If we could remove the effect of the ranges on the weight magnitudes, we could use the weight magnitudes to judge the relative importance of each input variable. How?\n",
    "\n",
    "A common approach is to *standardize* the input variables by adjusting the values to have zero mean and unit variance.  "
   ]
  },
  {
   "cell_type": "code",
   "execution_count": 55,
   "metadata": {
    "collapsed": false
   },
   "outputs": [
    {
     "name": "stdout",
     "output_type": "stream",
     "text": [
      "[[0 1 2]\n",
      " [3 4 5]]\n",
      "[ 2.5  3.5  4.5]\n",
      "[ 1.5  1.5  1.5]\n"
     ]
    }
   ],
   "source": [
    "Xs = (X - X.mean(axis=0)) / X.std(axis=0)\n",
    "Xs.shape\n",
    "\n",
    "test1=np.array([[1,2,3],\n",
    "              [4,5,6]])\n",
    "test2 = test1-1\n",
    "print(test2)\n",
    "print(test1.mean(axis=0))\n",
    "print(test1.std(axis=0))"
   ]
  },
  {
   "cell_type": "code",
   "execution_count": 56,
   "metadata": {
    "collapsed": false
   },
   "outputs": [
    {
     "data": {
      "text/plain": [
       "array([ -2.17e-16,  -2.54e-16,  -3.97e-16,   6.84e-17,   6.24e-15,\n",
       "        -4.38e-16,   2.33e-16])"
      ]
     },
     "execution_count": 56,
     "metadata": {},
     "output_type": "execute_result"
    }
   ],
   "source": [
    "Xs.mean(0)"
   ]
  },
  {
   "cell_type": "code",
   "execution_count": 57,
   "metadata": {
    "collapsed": false
   },
   "outputs": [
    {
     "data": {
      "text/plain": [
       "array([ 1.,  1.,  1.,  1.,  1.,  1.,  1.])"
      ]
     },
     "execution_count": 57,
     "metadata": {},
     "output_type": "execute_result"
    }
   ],
   "source": [
    "Xs.std(0)"
   ]
  },
  {
   "cell_type": "markdown",
   "metadata": {},
   "source": [
    "To do this correctly when partitioning data into training and testing sets, we must always calculate means and standard deviations using only the training set, and use the same means and standard deviations when standardizing the testing set.  Remember, you must not use any information about the testing set when building a model.  If you do, your test error will be lower than it will be when you truly see new data.\n",
    "\n",
    "You can do this by storing the means and standard deviations obtained from the training data, and just use them when standardizing the testing data.\n",
    "\n",
    "Another way is to construct functions for standardizing that include the calculated means and standard deviations as local variables, by using [function closures](http://www.openbookproject.net/py4fun/decorator/decorator.html)."
   ]
  },
  {
   "cell_type": "code",
   "execution_count": 58,
   "metadata": {
    "collapsed": false
   },
   "outputs": [],
   "source": [
    "def makeStandardize(X):\n",
    "    means = X.mean(axis=0)\n",
    "    stds = X.std(axis=0)\n",
    "    \n",
    "    def standardize(origX):\n",
    "        return (origX - means) / stds\n",
    "    \n",
    "    def unStandardize(stdX):\n",
    "        return stds * stdX + means\n",
    "    \n",
    "    return (standardize, unStandardize)"
   ]
  },
  {
   "cell_type": "markdown",
   "metadata": {},
   "source": [
    "Let's start with *X* again, and tack on the column of 1's after dividing data into training and testing partitions."
   ]
  },
  {
   "cell_type": "code",
   "execution_count": 59,
   "metadata": {
    "collapsed": false
   },
   "outputs": [],
   "source": [
    "Xtrain = X[trainIndices,:]\n",
    "Ttrain = T[trainIndices,:]\n",
    "Xtest = X[testIndices,:]\n",
    "Ttest = T[testIndices,:]\n",
    "\n",
    "(standardize, unStandardize) = makeStandardize(Xtrain)\n",
    "\n",
    "XtrainS = standardize(Xtrain)\n",
    "XtestS = standardize(Xtest)\n",
    "\n",
    "np.mean(XtrainS,axis=0), np.std(XtrainS,axis=0), np.mean(XtestS,axis=0), np.std(XtestS,axis=0)\n",
    "np.ones?"
   ]
  },
  {
   "cell_type": "markdown",
   "metadata": {},
   "source": [
    "Notice that the means and standard deviations for the testing set are not as close to 0 and 1 as they are for the training set.  Why?"
   ]
  },
  {
   "cell_type": "markdown",
   "metadata": {},
   "source": [
    "Now we can tack on the column of 1's, solve for *w*, and examine the weight magnitudes."
   ]
  },
  {
   "cell_type": "code",
   "execution_count": 60,
   "metadata": {
    "collapsed": false
   },
   "outputs": [
    {
     "name": "stdout",
     "output_type": "stream",
     "text": [
      "  23.778  bias\n",
      "  -0.809  cylinders\n",
      "   2.550  displacement\n",
      "  -0.665  horsepower\n",
      "  -5.871  weight\n",
      "   0.526  acceleration\n",
      "   2.843  year\n",
      "   1.164  origin\n"
     ]
    }
   ],
   "source": [
    "XtrainS1 = np.hstack((np.ones((XtrainS.shape[0],1)), XtrainS))\n",
    "XtestS1 = np.hstack((np.ones((XtestS.shape[0],1)), XtestS))\n",
    "w = np.linalg.lstsq( np.dot(XtrainS1.T,XtrainS1), np.dot(XtrainS1.T, Ttrain))[0]  # see this [0]?\n",
    "for wi,name in zip(w.flat,Xnames):\n",
    "    print('{:8.3f}  {:s}'.format(wi,name))"
   ]
  },
  {
   "cell_type": "markdown",
   "metadata": {},
   "source": [
    "Now what do you observe about the relative magnitudes?  If you had a ton of input variables, it would be easier to see if we sorted them by their magnitudes."
   ]
  },
  {
   "cell_type": "code",
   "execution_count": 61,
   "metadata": {
    "collapsed": false
   },
   "outputs": [
    {
     "data": {
      "text/plain": [
       "array([[ 23.78],\n",
       "       [  0.81],\n",
       "       [  2.55],\n",
       "       [  0.67],\n",
       "       [  5.87],\n",
       "       [  0.53],\n",
       "       [  2.84],\n",
       "       [  1.16]])"
      ]
     },
     "execution_count": 61,
     "metadata": {},
     "output_type": "execute_result"
    }
   ],
   "source": [
    "np.abs(w)"
   ]
  },
  {
   "cell_type": "code",
   "execution_count": 62,
   "metadata": {
    "collapsed": false
   },
   "outputs": [
    {
     "data": {
      "text/plain": [
       "array([5, 3, 1, 7, 2, 6, 4, 0])"
      ]
     },
     "execution_count": 62,
     "metadata": {},
     "output_type": "execute_result"
    }
   ],
   "source": [
    "np.argsort(np.abs(w.flat))"
   ]
  },
  {
   "cell_type": "code",
   "execution_count": 63,
   "metadata": {
    "collapsed": false
   },
   "outputs": [
    {
     "data": {
      "text/plain": [
       "array([0, 4, 6, 2, 7, 1, 3, 5])"
      ]
     },
     "execution_count": 63,
     "metadata": {},
     "output_type": "execute_result"
    }
   ],
   "source": [
    "np.argsort(np.abs(w.flat))[::-1]"
   ]
  },
  {
   "cell_type": "code",
   "execution_count": 64,
   "metadata": {
    "collapsed": false
   },
   "outputs": [
    {
     "name": "stdout",
     "output_type": "stream",
     "text": [
      "  23.778  bias\n",
      "  -5.871  weight\n",
      "   2.843  year\n",
      "   2.550  displacement\n",
      "   1.164  origin\n",
      "  -0.809  cylinders\n",
      "  -0.665  horsepower\n",
      "   0.526  acceleration\n"
     ]
    }
   ],
   "source": [
    "sortedOrder = np.argsort(np.abs(w.flat))[::-1]\n",
    "Xnames = np.array(Xnames)\n",
    "for wi,name in zip(w.flat[sortedOrder],Xnames[sortedOrder]):\n",
    "    print('{:8.3f}  {:s}'.format(wi,name))"
   ]
  },
  {
   "cell_type": "markdown",
   "metadata": {},
   "source": [
    "## Multiple Target Components"
   ]
  },
  {
   "cell_type": "markdown",
   "metadata": {},
   "source": [
    "The beauty of matrix equations now shines.   Previously $T$ was an $N\n",
    "\\times 1$ matrix of target \n",
    "values, one per sample.  \n",
    "\n",
    "Just add additional columns of target values for each\n",
    "target component.  So $T$ becomes an $N \\times K$ matrix,\n",
    "if there are $K$ output components.  Each row is one\n",
    "$K$-dimensional sample.  \n",
    "\n",
    "Looking again at the solution for $\\wv$,\n",
    "\n",
    "$$\n",
    "\\begin{align*}\n",
    " \\wv &= (X^T X)^{-1} X^T T\n",
    "\\end{align*}\n",
    "$$\n",
    "\n",
    "we see that this changes $\\wv$ from its original form of $D\n",
    "\\times 1$ to $D \\times K$.\n",
    "\n",
    "Let's use this to predict miles per gallon **and** horsepower.\n",
    "\n",
    "First, let's assemble the data for predicting MPG and HP.\n"
   ]
  },
  {
   "cell_type": "code",
   "execution_count": 65,
   "metadata": {
    "collapsed": false
   },
   "outputs": [
    {
     "data": {
      "text/plain": [
       "((392, 6), array(['bias', 'cylinders', 'displacement', 'horsepower', 'weight',\n",
       "        'acceleration', 'year', 'origin'], \n",
       "       dtype='|S12'), (392, 2), ['mpg', 'horsepower'])"
      ]
     },
     "execution_count": 65,
     "metadata": {},
     "output_type": "execute_result"
    }
   ],
   "source": [
    "X = dataNew[:,[1,2,4,5,6,7]]\n",
    "T = dataNew[:,[0,3]] \n",
    "Tnames = [names[0], names[3]]\n",
    "X.shape,Xnames,T.shape,Tnames"
   ]
  },
  {
   "cell_type": "code",
   "execution_count": 66,
   "metadata": {
    "collapsed": false
   },
   "outputs": [
    {
     "data": {
      "text/plain": [
       "((314, 6), (314, 2), (78, 6), (78, 2))"
      ]
     },
     "execution_count": 66,
     "metadata": {},
     "output_type": "execute_result"
    }
   ],
   "source": [
    "Xtrain = X[trainIndices,:]\n",
    "Ttrain = T[trainIndices,:]\n",
    "Xtest = X[testIndices,:]\n",
    "Ttest = T[testIndices,:]\n",
    "Xtrain.shape, Ttrain.shape, Xtest.shape, Ttest.shape"
   ]
  },
  {
   "cell_type": "code",
   "execution_count": 67,
   "metadata": {
    "collapsed": false
   },
   "outputs": [
    {
     "data": {
      "text/plain": [
       "array(['bias', 'cylinders', 'displacement', 'weight', 'acceleration',\n",
       "       'year', 'origin'], \n",
       "      dtype='|S12')"
      ]
     },
     "execution_count": 67,
     "metadata": {},
     "output_type": "execute_result"
    }
   ],
   "source": [
    "standardize,_ = makeStandardize(Xtrain)\n",
    "XtrainS = standardize(Xtrain)\n",
    "XtestS = standardize(Xtest)\n",
    "XtrainS1 = np.hstack((np.ones((XtrainS.shape[0],1)), XtrainS))\n",
    "Xnames = np.array(['bias']+names)[[0,2,3,5,6,7,8]]\n",
    "Xnames"
   ]
  },
  {
   "cell_type": "code",
   "execution_count": 68,
   "metadata": {
    "collapsed": false
   },
   "outputs": [
    {
     "data": {
      "text/plain": [
       "((314, 7), (314, 2))"
      ]
     },
     "execution_count": 68,
     "metadata": {},
     "output_type": "execute_result"
    }
   ],
   "source": [
    "XtrainS1.shape,Ttrain.shape"
   ]
  },
  {
   "cell_type": "code",
   "execution_count": 69,
   "metadata": {
    "collapsed": false
   },
   "outputs": [
    {
     "data": {
      "text/plain": [
       "array([[  23.78,  103.99],\n",
       "       [  -0.73,   -4.72],\n",
       "       [   2.27,   16.29],\n",
       "       [  -6.19,   18.72],\n",
       "       [   0.74,  -12.42],\n",
       "       [   2.89,   -3.  ],\n",
       "       [   1.11,    3.33]])"
      ]
     },
     "execution_count": 69,
     "metadata": {},
     "output_type": "execute_result"
    }
   ],
   "source": [
    "w = np.linalg.lstsq( np.dot(XtrainS1.T, XtrainS1), np.dot(XtrainS1.T, Ttrain))[0]\n",
    "w"
   ]
  },
  {
   "cell_type": "code",
   "execution_count": 70,
   "metadata": {
    "collapsed": false
   },
   "outputs": [
    {
     "name": "stdout",
     "output_type": "stream",
     "text": [
      "\n",
      "Target mpg\n",
      "\n",
      "  23.778  bias\n",
      "  -6.191  weight\n",
      "   2.894  year\n",
      "   2.272  displacement\n",
      "   1.107  origin\n",
      "   0.738  acceleration\n",
      "  -0.728  cylinders\n",
      "\n",
      "Target horsepower\n",
      "\n",
      " 103.987  bias\n",
      "  18.721  weight\n",
      "  16.294  displacement\n",
      " -12.418  acceleration\n",
      "  -4.724  cylinders\n",
      "   3.334  origin\n",
      "  -3.000  year\n"
     ]
    }
   ],
   "source": [
    "Xnames = np.array(Xnames)\n",
    "for targeti in range(2):\n",
    "    print('\\nTarget {}\\n'.format(Tnames[targeti]))\n",
    "    thisw = w[:,targeti]\n",
    "    sortedOrder = np.argsort(np.abs(thisw))[::-1]\n",
    "    for wi,name in zip(thisw[sortedOrder],Xnames[sortedOrder]):\n",
    "        print('{:8.3f}  {:s}'.format(wi,name))"
   ]
  },
  {
   "cell_type": "markdown",
   "metadata": {},
   "source": [
    "Now try predicting both mpg and horsepower."
   ]
  },
  {
   "cell_type": "code",
   "execution_count": 71,
   "metadata": {
    "collapsed": false
   },
   "outputs": [
    {
     "data": {
      "text/plain": [
       "(78, 2)"
      ]
     },
     "execution_count": 71,
     "metadata": {},
     "output_type": "execute_result"
    }
   ],
   "source": [
    "XtestS1 = np.hstack((np.ones((XtestS.shape[0],1)), XtestS))\n",
    "prediction = np.dot(XtestS1,w)\n",
    "prediction.shape"
   ]
  },
  {
   "cell_type": "code",
   "execution_count": 72,
   "metadata": {
    "collapsed": false
   },
   "outputs": [
    {
     "data": {
      "image/png": "[encoded data removed]",
      "text/plain": [
       "<matplotlib.figure.Figure at 0x7fcac302ddd0>"
      ]
     },
     "metadata": {},
     "output_type": "display_data"
    }
   ],
   "source": [
    "plt.figure(figsize=(10,10))\n",
    "for p in range(2):\n",
    "    plt.subplot(2,1,p+1)\n",
    "    plt.plot(prediction[:,p],Ttest[:,p],'o')\n",
    "    plt.xlabel(\"Predicted \" + Tnames[p])\n",
    "    plt.ylabel(\"Actual \" + Tnames[p])\n",
    "    a = max(min(prediction[:,p]),min(Ttest[:,p]))\n",
    "    b = min(max(prediction[:,p]),max(Ttest[:,p]))\n",
    "    plt.plot([a,b],[a,b],'r',linewidth=3)"
   ]
  },
  {
   "cell_type": "markdown",
   "metadata": {},
   "source": [
    "How well did we do in terms of RMSE?"
   ]
  },
  {
   "cell_type": "code",
   "execution_count": 73,
   "metadata": {
    "collapsed": false
   },
   "outputs": [
    {
     "data": {
      "text/plain": [
       "array([  3.35,  12.1 ])"
      ]
     },
     "execution_count": 73,
     "metadata": {},
     "output_type": "execute_result"
    }
   ],
   "source": [
    "rmseTrain = np.sqrt(np.mean((np.dot(XtrainS1,w) - Ttrain)**2,axis=0))\n",
    "rmseTrain"
   ]
  },
  {
   "cell_type": "code",
   "execution_count": 74,
   "metadata": {
    "collapsed": false
   },
   "outputs": [
    {
     "data": {
      "text/plain": [
       "array([  3.18,  12.58])"
      ]
     },
     "execution_count": 74,
     "metadata": {},
     "output_type": "execute_result"
    }
   ],
   "source": [
    "rmseTest = np.sqrt(np.mean((np.dot(XtestS1,w) - Ttest)**2,axis=0))\n",
    "rmseTest"
   ]
  },
  {
   "cell_type": "code",
   "execution_count": 75,
   "metadata": {
    "collapsed": false
   },
   "outputs": [
    {
     "name": "stdout",
     "output_type": "stream",
     "text": [
      "Training RMSE: MPG 3.35 HP 12.10\n",
      " Testing RMSE: MPG 3.18 HP 12.58\n"
     ]
    }
   ],
   "source": [
    "print('Training RMSE: MPG {:4.2f} HP {:4.2f}'.format(*rmseTrain))   #what is that * doing there??\n",
    "print(' Testing RMSE: MPG {:4.2f} HP {:4.2f}'.format(*rmseTest))"
   ]
  }
 ],
 "metadata": {
  "kernelspec": {
   "display_name": "Python 2",
   "language": "python",
   "name": "python2"
  },
  "language_info": {
   "codemirror_mode": {
    "name": "ipython",
    "version": 2
   },
   "file_extension": ".py",
   "mimetype": "text/x-python",
   "name": "python",
   "nbconvert_exporter": "python",
   "pygments_lexer": "ipython2",
   "version": "2.7.10"
  }
 },
 "nbformat": 4,
 "nbformat_minor": 0
}
