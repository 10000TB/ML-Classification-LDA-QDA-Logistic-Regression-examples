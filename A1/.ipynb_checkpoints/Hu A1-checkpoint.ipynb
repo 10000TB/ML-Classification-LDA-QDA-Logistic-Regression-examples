{
 "cells": [
  {
   "cell_type": "markdown",
   "metadata": {},
   "source": [
    "$\\newcommand{\\xv}{\\mathbf{x}}\n",
    "\\newcommand{\\Xv}{\\mathbf{X}}\n",
    "\\newcommand{\\yv}{\\mathbf{y}}\n",
    "\\newcommand{\\zv}{\\mathbf{z}}\n",
    "\\newcommand{\\av}{\\mathbf{a}}\n",
    "\\newcommand{\\Wv}{\\mathbf{W}}\n",
    "\\newcommand{\\wv}{\\mathbf{w}}\n",
    "\\newcommand{\\tv}{\\mathbf{t}}\n",
    "\\newcommand{\\Tv}{\\mathbf{T}}\n",
    "\\newcommand{\\muv}{\\boldsymbol{\\mu}}\n",
    "\\newcommand{\\sigmav}{\\boldsymbol{\\sigma}}\n",
    "\\newcommand{\\phiv}{\\boldsymbol{\\phi}}\n",
    "\\newcommand{\\Phiv}{\\boldsymbol{\\Phi}}\n",
    "\\newcommand{\\Sigmav}{\\boldsymbol{\\Sigma}}\n",
    "\\newcommand{\\Lambdav}{\\boldsymbol{\\Lambda}}\n",
    "\\newcommand{\\half}{\\frac{1}{2}}\n",
    "\\newcommand{\\argmax}[1]{\\underset{#1}{\\operatorname{argmax}}}\n",
    "\\newcommand{\\argmin}[1]{\\underset{#1}{\\operatorname{argmin}}}$"
   ]
  },
  {
   "cell_type": "markdown",
   "metadata": {},
   "source": [
    "# Assignment 1: Linear Regression"
   ]
  },
  {
   "cell_type": "markdown",
   "metadata": {},
   "source": [
    "*Xuehao(David) Hu*"
   ]
  },
  {
   "cell_type": "markdown",
   "metadata": {},
   "source": [
    "##1 Overview"
   ]
  },
  {
   "cell_type": "markdown",
   "metadata": {},
   "source": [
    "I am applying Linear Regression method on a sample dataset from UCL. Specifically, I am applying linear regression analysis on the sample datasets(mpg, cylinders, displacement, weight, acceleration, model year, origin) towards horsepower. it will extract a model w based on the trained set, which then can be used to predict horsepower based on future sample dataset. I am also exploring multiple ways to minimize the sum of squared errors so as to make model-predicted horsepower more close to actual horsepower."
   ]
  },
  {
   "cell_type": "markdown",
   "metadata": {},
   "source": [
    "##2 Method"
   ]
  },
  {
   "cell_type": "markdown",
   "metadata": {},
   "source": [
    "####2.1 Description\n",
    "\n",
    "Include latex math formulas defining the formula that is being minimized, and the matrix calculation for finding the weights.  Define in code cells the following functions as discussed in class.\n",
    "\n",
    "Linear Structure\n",
    "$$\n",
    "\\begin{align*}\n",
    "   g(\\xv;\\wv) &= w_0 + w_1 x_1 + w_2 x_2 + \\cdots + w_D x_D \\\\\n",
    "   &= w_0 + \\sum_{i=1}^D w_i x_i \\\\\n",
    "   & = \\sum_{i=0}^D w_i x_i \\mbox{, where } x_0 = 1 \\\\\n",
    "   &= \\wv^T \\xv\n",
    "\\end{align*}\n",
    "$$\n",
    "(Given $N$ observations, $\\xv_n$, for $n=1,\\ldots,N$, and target values,\n",
    "$t_n$, for $n=1,\\ldots,N$, what is the simplest model,\n",
    "$g(\\xv)$)\n",
    "\n",
    "\n",
    "\n",
    "\n",
    "\n",
    "Fitting Data Samples with Linear Model\n",
    "\n",
    "In my opinion, what is want to achieve finally is that minimize(for all n) $$|t_n - g(\\xv_n;\\wv)$$\n",
    "\n",
    "and the good practice to achieve it is  $$\n",
    "    \\wv_{\\mbox{best}} = \\argmin{\\wv} \\sum_{n=1}^N (t_n - g(x_n ; \\wv))^2\n",
    "$$\n",
    "in which $$\n",
    "    g(\\xv;\\wv) = w_0 + w_1 x\n",
    "$$\n",
    "and you take the derivative(gradient) with respect to $\\wv$ to zero and solve for $\\wv$\n",
    "\n",
    "Doing it in matrixs makes it easy with python\n",
    "\n",
    "Collect all targets into matrix $T$ and $x$ samples into matrix\n",
    "$X$. ($N$=number samples, $D$=sample dimensionality)\n",
    "$$\n",
    "  \\begin{align*}\n",
    "    T &= \\begin{bmatrix}\n",
    "      t_1 \\\\ t_2 \\\\ \\vdots \\\\ t_N\n",
    "    \\end{bmatrix} \\\\\n",
    "    X &= \\begin{bmatrix}\n",
    "      x_{1,0} & x_{1,1} & x_{1,2} & \\dotsc & x_{1,D} \\\\\n",
    "      x_{2,0} & x_{2,1} & x_{2,2} & \\dotsc & x_{2,D} \\\\\n",
    "      \\vdots \\\\\n",
    "      x_{N,0} & x_{N,1} & x_{N,2} & \\dotsc & x_{N,D}\n",
    "    \\end{bmatrix}\\\\\n",
    "    \\wv &= \\begin{bmatrix} w_0 \\\\ w_1 \\\\ \\vdots \\\\ w_D \\end{bmatrix}\n",
    "  \\end{align*}\n",
    "$$\n",
    "If $g$ is an affine (linear + constant) function of $x$,\n",
    "$$\n",
    "    g(\\xv;\\wv) = w_0 + w_1 x\n",
    "$$\n",
    "\n",
    "Collection of all differences is $T - X\\wv$, which is an $N \\times\n",
    "1$ matrix. \n",
    "\n",
    "To form the square of all values and add them up, just\n",
    "do a dot product $(T-X\\wv)^T (T-X\\wv)$. (This only works if the value we are predicting is a scalar, which means $T$ is a column matrix.  If we want to predict more than one value for each sample, $T$ will have more than one column.)  \n",
    "Let's continue with the derivation assuming $T$ has $K$ columns, meaning we want a linear model with $K$ outputs."
   ]
  },
  {
   "cell_type": "markdown",
   "metadata": {},
   "source": [
    "To find the best value for $\\wv$, we take the derivative the the sum of squared error objective, set it equal to 0 and solve for $\\wv$. \n",
    "\n",
    "$$\n",
    "\\begin{align*}\n",
    "\\frac{\\partial \\sum_{n=1}^N (\\tv_n - g(\\xv_n;\\wv))^2}{\\partial \\wv} &= -2 \\sum_{n=1}^N (\\tv_n - g(\\xv_n;\\wv) \\frac{\\partial g(\\xv_n;\\wv)}{\\partial \\wv}\\\\\n",
    "&= -2 \\sum_{n=1}^N (\\tv_n - \\xv_n^T \\wv) \\frac{\\partial \\xv_n^T \\wv}{\\partial \\wv}\\\\\n",
    "&= -2 \\sum_{n=1}^N (\\tv_n - \\xv_n^T \\wv) \\xv_n^T\n",
    "\\end{align*}\n",
    "$$\n",
    "\n",
    "Here's where we get the benefit of expressing the $\\xv_n$ and $t_n$ samples as matrices. The sum can be performed with a dot product:\n",
    "\n",
    "$$\n",
    "\\begin{align*}\n",
    "\\frac{\\partial \\sum_{n=1}^N (\\tv_n - g(\\xv_n;\\wv))^2}{\\partial \\wv} \n",
    "&= -2 \\sum_{n=1}^N (\\tv_n - \\xv_n^T \\wv) \\xv_n^T\\\\\n",
    "&= -2 \\Xv^T (\\Tv - \\Xv \\wv)\n",
    "\\end{align*}\n",
    "$$\n",
    "\n",
    "Check the sizes and shapes of each matrix in the last equation above.\n",
    "\n",
    "Now we can set this equal to zero and solve for $\\wv$.\n",
    "\n",
    "$$\n",
    "\\begin{align*}\n",
    "-2 \\Xv^T (\\Tv - \\Xv \\wv) &= 0\\\\\n",
    "\\Xv^T (\\Tv - \\Xv \\wv) &= 0\\\\\n",
    "\\Xv^T \\Tv &= \\Xv^T \\Xv \\wv\\\\\n",
    "\\wv &= (\\Xv^T \\Xv)^{-1} \\Xv^T \\Tv\n",
    "\\end{align*}\n",
    "$$"
   ]
  },
  {
   "cell_type": "markdown",
   "metadata": {},
   "source": [
    "And, in python\n",
    "\n",
    "    w = np.dot( np.linalg.inv(np.dot(X.T, X)), np.dot(X.T,T) )\n",
    "\n",
    "or, you may use the *solve* function that assumes $\\Xv^T \\Xv$ is full rank (no linearly dependent columns),\n",
    "\n",
    "    w = np.linalg.solve(np.dot(X.T,X), np.dot(X.T, T))\n",
    "\n",
    "or, better yet, use the *lstsq* function that does not make that assumption. \n",
    "\n",
    "    w = np.linalg.lstsq(np.dot(X.T,X), np.dot(X.T, T))\n",
    "[CITE: Above is mostly based on Prof.Chuck Anderson's notebook from his Machine learning class that I am taking](http://nbviewer.jupyter.org/url/www.cs.colostate.edu/~anderson/cs480/notebooks/03%20Linear%20Regression.ipynb)\n",
    "\n",
    "\n",
    "Here, for training, and testing, where will be following functions:\n",
    "\n",
    "  * ```model = train(X,T)```\n",
    "  * ```predict = use(X,model)```\n",
    "  * ```error = rmse(predict,T)```\n",
    "  \n",
    "Let ```X``` be a two-dimensional matrix (```np.array```) with each row containing one data sample, and ```T``` be a two-dimensional matrix of one column containing the target values for each sample in ```X```.  So, ```X.shape[0]``` is equal to ```T.shape[0]```.  Function call ```train(X,T)``` will return a dictionary with the keys ```means```, ```stds```, and ```w```.\n",
    "[CITE: This is mostly the assignment description from Prof.Chuck Anderson's Machine Learning class](http://nbviewer.jupyter.org/url/www.cs.colostate.edu/~anderson/cs480/notebooks/03%20Linear%20Regression.ipynb)"
   ]
  },
  {
   "cell_type": "markdown",
   "metadata": {},
   "source": [
    "####2.2 Import libraries"
   ]
  },
  {
   "cell_type": "code",
   "execution_count": 365,
   "metadata": {
    "collapsed": false
   },
   "outputs": [],
   "source": [
    "import numpy as np\n",
    "import matplotlib.pyplot as plt\n",
    "%matplotlib inline"
   ]
  },
  {
   "cell_type": "markdown",
   "metadata": {},
   "source": [
    "####2.3 model = train(X,T)"
   ]
  },
  {
   "cell_type": "code",
   "execution_count": 366,
   "metadata": {
    "collapsed": true
   },
   "outputs": [],
   "source": [
    "def train(X,T):\n",
    "    means = X.mean(axis=0)\n",
    "    stds= X.std(axis=0)\n",
    "    Xs = (X - means)/stds\n",
    "    Xs1= np.hstack((np.ones((Xs.shape[0],1)), Xs))\n",
    "    w = np.linalg.lstsq(np.dot(Xs1.T,Xs1),np.dot(Xs1.T,T))[0]\n",
    "    model = {'means':means,'stds':stds,'w':w}\n",
    "    return model"
   ]
  },
  {
   "cell_type": "markdown",
   "metadata": {
    "collapsed": true
   },
   "source": [
    "####2.4 predict = use(X,model)"
   ]
  },
  {
   "cell_type": "code",
   "execution_count": 367,
   "metadata": {
    "collapsed": false
   },
   "outputs": [],
   "source": [
    "def use(X,model):\n",
    "    X1 = np.hstack((np.ones((X.shape[0],1)), X))\n",
    "    predict = np.dot(X1,model['w'])\n",
    "    print(predict)\n",
    "    return predict"
   ]
  },
  {
   "cell_type": "markdown",
   "metadata": {},
   "source": [
    "####2.5 predict = rmse(X,model) "
   ]
  },
  {
   "cell_type": "code",
   "execution_count": 368,
   "metadata": {
    "collapsed": false
   },
   "outputs": [],
   "source": [
    "def rmse(predict,T):\n",
    "    rmseValue = np.sqrt(np.mean((predict-T)**2))\n",
    "    return rmseValue"
   ]
  },
  {
   "cell_type": "markdown",
   "metadata": {},
   "source": [
    "##3 Data"
   ]
  },
  {
   "cell_type": "markdown",
   "metadata": {},
   "source": [
    "####3.1 Data Title:    \n",
    "        Auto-Mpg Data & Auto-Mpg Names\n",
    "\n",
    "####3.2 Data Source:     \n",
    "        [UCL Machine Learning Repository](http://archive.ics.uci.edu/ml/datasets/Auto+MPG) \n",
    "\n",
    "#### 3.3 Data Shape:        \n",
    "        398(rows) X 9 (colomns)\n",
    "\n",
    "####3.4  Data Attribute Info:\n",
    "        1. mpg:           continuous\n",
    "        2. cylinders:     multi-valued discrete\n",
    "        3. displacement:  continuous\n",
    "        4. horsepower:    continuous (has 6 missing values)\n",
    "        5. weight:        continuous\n",
    "        6. acceleration:  continuous\n",
    "        7. model year:    multi-valued discrete\n",
    "        8. origin:        multi-valued discrete\n",
    "        9. car name:      string (unique for each instance)\n",
    "        \n",
    "Describe the data you use in your example application.  Mention the source, and the names and meanings of each attribute. Include some plots of the data. Describe some observations you make about the plots.\n"
   ]
  },
  {
   "cell_type": "markdown",
   "metadata": {},
   "source": [
    "####3.5 load and clean data"
   ]
  },
  {
   "cell_type": "markdown",
   "metadata": {},
   "source": [
    "Convert question mark(?) to nan. Referenced from Prof.Chuck Anderson's [missingIsNan(s)](http://nbviewer.jupyter.org/url/www.cs.colostate.edu/~anderson/cs480/notebooks/03%20Linear%20Regression.ipynb)"
   ]
  },
  {
   "cell_type": "code",
   "execution_count": 369,
   "metadata": {
    "collapsed": false
   },
   "outputs": [],
   "source": [
    "def nanConverter(s):\n",
    "    return np.nan if s == b'?' else float(s)"
   ]
  },
  {
   "cell_type": "markdown",
   "metadata": {},
   "source": [
    "load auto-mpg.data, and use first 8 columns"
   ]
  },
  {
   "cell_type": "code",
   "execution_count": 370,
   "metadata": {
    "collapsed": true
   },
   "outputs": [],
   "source": [
    "data = np.loadtxt('auto-mpg.data', usecols=range(8), converters={3: nanConverter})"
   ]
  },
  {
   "cell_type": "markdown",
   "metadata": {},
   "source": [
    "Remove lines that are missing horsepower. Referenced Prof.Chuck Anderson's [Notebook](http://nbviewer.jupyter.org/url/www.cs.colostate.edu/~anderson/cs480/notebooks/03%20Linear%20Regression.ipynb)"
   ]
  },
  {
   "cell_type": "code",
   "execution_count": 371,
   "metadata": {
    "collapsed": true
   },
   "outputs": [],
   "source": [
    "isNanArray = np.isnan(data)\n",
    "goodRowsMask = np.logical_not(isNanArray.any(axis=1))\n",
    "dataCleaned = data[goodRowsMask,:]"
   ]
  },
  {
   "cell_type": "markdown",
   "metadata": {},
   "source": [
    "####3.4 Train Sample and Target "
   ]
  },
  {
   "cell_type": "markdown",
   "metadata": {},
   "source": [
    "Swap horsepower and mpg column, which reduce this analysis to class example"
   ]
  },
  {
   "cell_type": "code",
   "execution_count": 372,
   "metadata": {
    "collapsed": false
   },
   "outputs": [],
   "source": [
    "dataCleaned[:,[0,3]] = dataCleaned[:,[3,0]]"
   ]
  },
  {
   "cell_type": "markdown",
   "metadata": {},
   "source": [
    "Target:  horsepower"
   ]
  },
  {
   "cell_type": "code",
   "execution_count": 373,
   "metadata": {
    "collapsed": false
   },
   "outputs": [],
   "source": [
    "T=dataCleaned[:,0:1]"
   ]
  },
  {
   "cell_type": "markdown",
   "metadata": {},
   "source": [
    "Sample:  mpg, cylinders, displacement, weight, acceleration, model year, origin"
   ]
  },
  {
   "cell_type": "code",
   "execution_count": 374,
   "metadata": {
    "collapsed": false
   },
   "outputs": [],
   "source": [
    "X=dataCleaned[:,1:]"
   ]
  },
  {
   "cell_type": "markdown",
   "metadata": {},
   "source": [
    "####3.5 Visualize the loaded data"
   ]
  },
  {
   "cell_type": "code",
   "execution_count": 375,
   "metadata": {
    "collapsed": false
   },
   "outputs": [
    {
     "data": {
      "image/png": "[encoded data removed]",
      "text/plain": [
       "<matplotlib.figure.Figure at 0x7f583d112860>"
      ]
     },
     "metadata": {},
     "output_type": "display_data"
    }
   ],
   "source": [
    "plt.figure(figsize=(10,10))\n",
    "for s in range(X.shape[1]):\n",
    "    plt.subplot(3,3,s+1)\n",
    "    plt.plot(X[:,s],T,'o',alpha=0.5)"
   ]
  },
  {
   "cell_type": "markdown",
   "metadata": {},
   "source": [
    "## 4 Results"
   ]
  },
  {
   "cell_type": "markdown",
   "metadata": {},
   "source": [
    "####4.1 Add helper Info"
   ]
  },
  {
   "cell_type": "code",
   "execution_count": 376,
   "metadata": {
    "collapsed": false
   },
   "outputs": [],
   "source": [
    "names = ['horsepower','cylinders','displacement','mpg','weight',\n",
    "          'acceleration','year','origin']\n",
    "Xnames = names[0:3]+names[4:]\n",
    "Tname = names[3]"
   ]
  },
  {
   "cell_type": "markdown",
   "metadata": {},
   "source": [
    "Update name for the first column"
   ]
  },
  {
   "cell_type": "code",
   "execution_count": 377,
   "metadata": {
    "collapsed": false
   },
   "outputs": [],
   "source": [
    "Xnames=['bias','cylinders','displacement','mpg','weight',\n",
    "          'acceleration','year','origin']"
   ]
  },
  {
   "cell_type": "markdown",
   "metadata": {},
   "source": [
    "####4.2 Apply the data set to train() to build the model, precist and calculate rmse"
   ]
  },
  {
   "cell_type": "code",
   "execution_count": 378,
   "metadata": {
    "collapsed": false
   },
   "outputs": [],
   "source": [
    "model = train(X,T)"
   ]
  },
  {
   "cell_type": "code",
   "execution_count": 379,
   "metadata": {
    "collapsed": false
   },
   "outputs": [
    {
     "name": "stdout",
     "output_type": "stream",
     "text": [
      "[[ 64186.58286808]\n",
      " [ 68127.79646126]\n",
      " [ 63238.06695887]\n",
      " [ 62939.15771987]\n",
      " [ 63191.61464086]\n",
      " [ 80447.69674819]\n",
      " [ 81109.3333496 ]\n",
      " [ 80166.00698306]\n",
      " [ 82314.01315965]\n",
      " [ 71501.80399383]\n",
      " [ 66514.44265016]\n",
      " [ 66581.4230978 ]\n",
      " [ 70157.12309668]\n",
      " [ 59689.3808985 ]\n",
      " [ 41718.9689252 ]\n",
      " [ 50943.08453555]\n",
      " [ 49970.51708065]\n",
      " [ 46816.50115353]\n",
      " [ 37356.65458776]\n",
      " [ 32297.25306278]\n",
      " [ 46700.47860686]\n",
      " [ 42598.23915337]\n",
      " [ 41579.43262867]\n",
      " [ 39546.81849602]\n",
      " [ 47842.18090918]\n",
      " [ 83856.49913744]\n",
      " [ 78898.58070252]\n",
      " [ 79204.66772636]\n",
      " [ 84821.85619698]\n",
      " [ 37354.27911166]\n",
      " [ 40332.69948719]\n",
      " [ 39293.77682385]\n",
      " [ 48196.12406065]\n",
      " [ 61653.22265237]\n",
      " [ 60220.85711369]\n",
      " [ 59761.04077332]\n",
      " [ 59218.07983456]\n",
      " [ 76839.84944426]\n",
      " [ 82010.69295774]\n",
      " [ 75909.49661109]\n",
      " [ 74370.48993855]\n",
      " [ 90019.47306462]\n",
      " [ 86771.30218673]\n",
      " [ 93428.58755708]\n",
      " [ 54179.17327819]\n",
      " [ 42734.26689654]\n",
      " [ 59429.16056357]\n",
      " [ 57020.79397312]\n",
      " [ 39308.21067892]\n",
      " [ 37561.5336531 ]\n",
      " [ 36029.86252474]\n",
      " [ 36092.42856524]\n",
      " [ 30815.28643452]\n",
      " [ 28133.83637733]\n",
      " [ 32294.33688206]\n",
      " [ 34215.68788642]\n",
      " [ 40119.87855782]\n",
      " [ 37258.11483511]\n",
      " [ 39341.29536244]\n",
      " [ 42729.44479186]\n",
      " [ 39380.55632336]\n",
      " [ 77937.56030224]\n",
      " [ 80667.42801711]\n",
      " [ 75019.22806174]\n",
      " [ 75490.75760836]\n",
      " [ 66976.95915784]\n",
      " [ 85371.87824478]\n",
      " [ 81771.84037873]\n",
      " [ 80996.39707801]\n",
      " [ 81288.35471886]\n",
      " [ 40300.51938335]\n",
      " [ 70685.72541431]\n",
      " [ 74203.25380341]\n",
      " [ 77405.17346459]\n",
      " [ 74034.97174272]\n",
      " [ 51343.0487297 ]\n",
      " [ 44163.0725219 ]\n",
      " [ 52037.23219746]\n",
      " [ 38287.0634089 ]\n",
      " [ 42240.34227717]\n",
      " [ 39989.50794552]\n",
      " [ 44106.08691909]\n",
      " [ 37927.5520437 ]\n",
      " [ 36820.79150312]\n",
      " [ 74983.05928305]\n",
      " [ 66979.99332555]\n",
      " [ 73090.63298488]\n",
      " [ 73161.19477636]\n",
      " [ 68979.95321242]\n",
      " [ 90751.6821134 ]\n",
      " [ 82001.69216236]\n",
      " [ 79444.00457697]\n",
      " [ 76730.00934908]\n",
      " [ 87277.7070887 ]\n",
      " [ 91186.03198104]\n",
      " [ 70464.33069108]\n",
      " [ 56259.62020166]\n",
      " [ 59325.91425497]\n",
      " [ 53411.72028644]\n",
      " [ 54998.02451135]\n",
      " [ 52127.7649346 ]\n",
      " [ 34227.189865  ]\n",
      " [ 90987.0079401 ]\n",
      " [ 89465.76753159]\n",
      " [ 84515.03905258]\n",
      " [ 81732.68424267]\n",
      " [ 50787.94691527]\n",
      " [ 39825.27598472]\n",
      " [ 42606.98945752]\n",
      " [ 41729.95226692]\n",
      " [ 36819.23446629]\n",
      " [ 40776.89476895]\n",
      " [ 44119.94350287]\n",
      " [ 39633.34529013]\n",
      " [ 74675.31291307]\n",
      " [ 78883.76841944]\n",
      " [ 32340.95438338]\n",
      " [ 38137.21960414]\n",
      " [ 45292.53125576]\n",
      " [ 50228.48080395]\n",
      " [ 62611.17362946]\n",
      " [ 46723.11792197]\n",
      " [ 49813.40953245]\n",
      " [ 67643.93271124]\n",
      " [ 55470.28539307]\n",
      " [ 52664.08840717]\n",
      " [ 60317.45458488]\n",
      " [ 33935.85203102]\n",
      " [ 43168.53855785]\n",
      " [ 31846.6343532 ]\n",
      " [ 45010.09594802]\n",
      " [ 67834.66657282]\n",
      " [ 65441.9402213 ]\n",
      " [ 64570.40310681]\n",
      " [ 74834.03560312]\n",
      " [ 85083.62599613]\n",
      " [ 80457.00593139]\n",
      " [ 83211.07149931]\n",
      " [ 76813.74146243]\n",
      " [ 38836.20753933]\n",
      " [ 34202.84378235]\n",
      " [ 40217.33632189]\n",
      " [ 28828.85316593]\n",
      " [ 34898.06327894]\n",
      " [ 37132.90167045]\n",
      " [ 36844.81748598]\n",
      " [ 39636.30324932]\n",
      " [ 43806.23641711]\n",
      " [ 41935.23000849]\n",
      " [ 34812.95119647]\n",
      " [ 58675.34195549]\n",
      " [ 62400.06517585]\n",
      " [ 61888.73433064]\n",
      " [ 57277.20773884]\n",
      " [ 85444.50395294]\n",
      " [ 80707.46133409]\n",
      " [ 81131.68110894]\n",
      " [ 84399.01638508]\n",
      " [ 69585.7093133 ]\n",
      " [ 69774.14487504]\n",
      " [ 67085.13485513]\n",
      " [ 67443.98844254]\n",
      " [ 54984.82933749]\n",
      " [ 58600.65698425]\n",
      " [ 58437.7252    ]\n",
      " [ 38015.77480313]\n",
      " [ 46650.30324865]\n",
      " [ 52879.56634036]\n",
      " [ 45838.0008966 ]\n",
      " [ 47660.72897607]\n",
      " [ 38771.648968  ]\n",
      " [ 44708.73903306]\n",
      " [ 53039.60599977]\n",
      " [ 33962.25567283]\n",
      " [ 57887.57246221]\n",
      " [ 47179.81366824]\n",
      " [ 51685.03803459]\n",
      " [ 51531.4694035 ]\n",
      " [ 46908.48011009]\n",
      " [ 31534.52038643]\n",
      " [ 43139.15387759]\n",
      " [ 39158.93452878]\n",
      " [ 45537.66773982]\n",
      " [ 39426.56642373]\n",
      " [ 38613.7155553 ]\n",
      " [ 76140.40751212]\n",
      " [ 75943.29248623]\n",
      " [ 71841.13977717]\n",
      " [ 76935.88837016]\n",
      " [ 58151.02394024]\n",
      " [ 60617.58969678]\n",
      " [ 53958.55080323]\n",
      " [ 55742.64248022]\n",
      " [ 35426.8165804 ]\n",
      " [ 37838.40796986]\n",
      " [ 33957.45897362]\n",
      " [ 31533.35552189]\n",
      " [ 65189.59159502]\n",
      " [ 64280.2754102 ]\n",
      " [ 65537.14625737]\n",
      " [ 58019.27044802]\n",
      " [ 32208.20308054]\n",
      " [ 34732.11358578]\n",
      " [ 37740.01348138]\n",
      " [ 45432.42422452]\n",
      " [ 55136.09444315]\n",
      " [ 71722.1150628 ]\n",
      " [ 56919.21108747]\n",
      " [ 51862.16368292]\n",
      " [ 67091.59634649]\n",
      " [ 79711.58285308]\n",
      " [ 74227.68911838]\n",
      " [ 70243.59240412]\n",
      " [ 68586.54744569]\n",
      " [ 35864.39376595]\n",
      " [ 37985.01622333]\n",
      " [ 31808.41670378]\n",
      " [ 40623.02368258]\n",
      " [ 33969.10465894]\n",
      " [ 70483.70286268]\n",
      " [ 72676.78696133]\n",
      " [ 75088.51116771]\n",
      " [ 77419.90304539]\n",
      " [ 63422.06985069]\n",
      " [ 61480.09043635]\n",
      " [ 64834.18940262]\n",
      " [ 63473.27405249]\n",
      " [ 77874.89025429]\n",
      " [ 76086.70224653]\n",
      " [ 79636.624789  ]\n",
      " [ 78937.82728086]\n",
      " [ 34122.00143423]\n",
      " [ 48549.86767597]\n",
      " [ 39578.08639788]\n",
      " [ 48615.5845503 ]\n",
      " [ 35977.631434  ]\n",
      " [ 36391.05843835]\n",
      " [ 34861.59880207]\n",
      " [ 38348.30490268]\n",
      " [ 49752.14013135]\n",
      " [ 45718.85159018]\n",
      " [ 47045.06094212]\n",
      " [ 34649.94789391]\n",
      " [ 31755.5713491 ]\n",
      " [ 34492.52228639]\n",
      " [ 36046.38213072]\n",
      " [ 31619.60403687]\n",
      " [ 60968.3725207 ]\n",
      " [ 68242.00754495]\n",
      " [ 65183.49274808]\n",
      " [ 63310.84804484]\n",
      " [ 56369.07029565]\n",
      " [ 53188.29989586]\n",
      " [ 48027.3895881 ]\n",
      " [ 61455.8294871 ]\n",
      " [ 57860.40686158]\n",
      " [ 60730.50151397]\n",
      " [ 54950.47211762]\n",
      " [ 64651.46246303]\n",
      " [ 61712.7000318 ]\n",
      " [ 62781.80580454]\n",
      " [ 61863.06863317]\n",
      " [ 59039.36715123]\n",
      " [ 74068.72945981]\n",
      " [ 37739.46361415]\n",
      " [ 45239.49081629]\n",
      " [ 40584.00385659]\n",
      " [ 39149.16248664]\n",
      " [ 44483.41786847]\n",
      " [ 48711.45954431]\n",
      " [ 50472.50095348]\n",
      " [ 42361.68289621]\n",
      " [ 49733.50430965]\n",
      " [ 55548.12751976]\n",
      " [ 48976.03741588]\n",
      " [ 60085.03574884]\n",
      " [ 34818.12603707]\n",
      " [ 37409.32604253]\n",
      " [ 58450.29603513]\n",
      " [ 53580.00761264]\n",
      " [ 50879.49426731]\n",
      " [ 58773.79918394]\n",
      " [ 60277.77092252]\n",
      " [ 69768.87924757]\n",
      " [ 67797.52478397]\n",
      " [ 72527.18058853]\n",
      " [ 69822.76671601]\n",
      " [ 79331.90474781]\n",
      " [ 74188.43675028]\n",
      " [ 65148.37134423]\n",
      " [ 72426.65086483]\n",
      " [ 33727.64165967]\n",
      " [ 34506.66429008]\n",
      " [ 33697.03344714]\n",
      " [ 46855.54230383]\n",
      " [ 62389.1380637 ]\n",
      " [ 71518.1746966 ]\n",
      " [ 55870.0368379 ]\n",
      " [ 61806.98969757]\n",
      " [ 38649.67445129]\n",
      " [ 37783.71992161]\n",
      " [ 35205.61424744]\n",
      " [ 37207.49166388]\n",
      " [ 47355.31775046]\n",
      " [ 46510.81254579]\n",
      " [ 48269.19884462]\n",
      " [ 45453.79885466]\n",
      " [ 37553.95575497]\n",
      " [ 34386.58577356]\n",
      " [ 37151.64880867]\n",
      " [ 35227.62469859]\n",
      " [ 47482.78380943]\n",
      " [ 50522.10745135]\n",
      " [ 52937.28928478]\n",
      " [ 60607.50735654]\n",
      " [ 38279.95253566]\n",
      " [ 47766.25069012]\n",
      " [ 44644.07796393]\n",
      " [ 42822.10245905]\n",
      " [ 39784.44947058]\n",
      " [ 36730.11167522]\n",
      " [ 49655.39403499]\n",
      " [ 36707.70954379]\n",
      " [ 36330.27819872]\n",
      " [ 40531.85470485]\n",
      " [ 51507.66848629]\n",
      " [ 56998.34463968]\n",
      " [ 32475.83482984]\n",
      " [ 37531.7165136 ]\n",
      " [ 32361.58191387]\n",
      " [ 51745.13345548]\n",
      " [ 41805.84628537]\n",
      " [ 43986.99418715]\n",
      " [ 40167.59157815]\n",
      " [ 44040.99786839]\n",
      " [ 46757.58692015]\n",
      " [ 46615.40590179]\n",
      " [ 48696.4469197 ]\n",
      " [ 42295.69633656]\n",
      " [ 30635.19114431]\n",
      " [ 32780.77920982]\n",
      " [ 30770.81786385]\n",
      " [ 36182.7340124 ]\n",
      " [ 34428.71550424]\n",
      " [ 35788.61715353]\n",
      " [ 34746.80920866]\n",
      " [ 38876.89144597]\n",
      " [ 35869.40190484]\n",
      " [ 41483.42108163]\n",
      " [ 38470.06695736]\n",
      " [ 38842.61475343]\n",
      " [ 41198.55995365]\n",
      " [ 45887.83745709]\n",
      " [ 46202.86632501]\n",
      " [ 56592.79643613]\n",
      " [ 55473.38275941]\n",
      " [ 51572.42747354]\n",
      " [ 51690.26172402]\n",
      " [ 61311.51251756]\n",
      " [ 68530.64629603]\n",
      " [ 54770.61853809]\n",
      " [ 62052.57926867]\n",
      " [ 45539.25726263]\n",
      " [ 46144.54981098]\n",
      " [ 41999.50845085]\n",
      " [ 45068.10851046]\n",
      " [ 44623.12798951]\n",
      " [ 48424.78671094]\n",
      " [ 50457.78129379]\n",
      " [ 34900.66580126]\n",
      " [ 35388.43749102]\n",
      " [ 34477.20396227]\n",
      " [ 37350.2868809 ]\n",
      " [ 37202.55762837]\n",
      " [ 38212.64483997]\n",
      " [ 38750.3979553 ]\n",
      " [ 39417.93906809]\n",
      " [ 34411.57404365]\n",
      " [ 34413.91905037]\n",
      " [ 34903.94660626]\n",
      " [ 52499.61193251]\n",
      " [ 55038.62180705]\n",
      " [ 46020.07595304]\n",
      " [ 51540.23312195]\n",
      " [ 47170.88419432]\n",
      " [ 42027.84101063]\n",
      " [ 52066.04361779]\n",
      " [ 49194.80678919]\n",
      " [ 37171.17010895]\n",
      " [ 40784.75267761]\n",
      " [ 46026.27925288]\n",
      " [ 47599.24491149]]\n"
     ]
    },
    {
     "data": {
      "image/png": "[encoded data removed]",
      "text/plain": [
       "<matplotlib.figure.Figure at 0x7f583d0dcd68>"
      ]
     },
     "metadata": {},
     "output_type": "display_data"
    }
   ],
   "source": [
    "X1= np.hstack((np.ones((X.shape[0],1)), X))\n",
    "predict = use(X,model)\n",
    "actual = T\n",
    "plt.plot(predict,actual,'o')\n",
    "plt.xlabel('Predicted horsepower')\n",
    "plt.ylabel('Actual horsepower')\n",
    "#add a 45% line\n",
    "a = max(min(predict),min(actual))\n",
    "b = min (max(predict),max(actual))\n",
    "plt.plot([a,b],[a,b],'r',linewidth=4,alpha=0.6);"
   ]
  },
  {
   "cell_type": "markdown",
   "metadata": {},
   "source": [
    "obviously the predicted horsepower is not very close to actual horsepower"
   ]
  },
  {
   "cell_type": "markdown",
   "metadata": {},
   "source": [
    "####4.1 Show the Weights,Ranges,Min,Max and discuss to find the least relevant"
   ]
  },
  {
   "cell_type": "code",
   "execution_count": 380,
   "metadata": {
    "collapsed": false
   },
   "outputs": [
    {
     "name": "stdout",
     "output_type": "stream",
     "text": [
      "name     original weight  range(max-min)  min     max    weight/range\n",
      "bias          104.4694         0.00      1.00    1.00         nan\n",
      "cylinders      -5.0675         5.00      3.00    8.00       -1.01\n",
      "displacement   17.1228       387.00     68.00  455.00        0.04\n",
      "mpg            -1.8032        37.60      9.00   46.60       -0.05\n",
      "weight         16.8967      3527.00   1613.00 5140.00        0.00\n",
      "acceleration  -12.1061        16.80      8.00   24.80       -0.72\n",
      "year           -2.3755        12.00     70.00   82.00       -0.20\n",
      "origin          4.0524         2.00      1.00    3.00        2.03\n"
     ]
    }
   ],
   "source": [
    "X1 = np.hstack((np.ones((X.shape[0],1)), X))\n",
    "print('{:14s}'.format('name     original weight  range(max-min)  min     max    weight/range'))\n",
    "for weight,name,mn,mx in zip(model['w'].flat,Xnames,\n",
    "    np.min(X1,axis=0),np.max(X1,axis=0)):\n",
    "    if(mx==mn):\n",
    "        print('{:13s}{:9.4f}{:13.2f}{:10.2f}{:8.2f}{:12.2f}'.\n",
    "        format(name,weight,mx-mn,mn,mx,np.nan))\n",
    "    else:        \n",
    "        print('{:13s}{:9.4f}{:13.2f}{:10.2f}{:8.2f}{:12.2f}'.\n",
    "        format(name,weight,mx-mn,mn,mx,weight/(mx-mn)))"
   ]
  },
  {
   "cell_type": "markdown",
   "metadata": {
    "collapsed": true
   },
   "source": [
    "Obviously, the weight for *displacement * and *weight * is relatively small but their range id way larger than other variables. Meanwile, the ratio of weight/range for *displacement* and *weight* are weight smaller than other variables \n",
    "\n",
    "Since the weight magnitude for each name is not only decided by the linear relationship between them and taget, but also decided by each input's range. Therefore, we can standardize the input variable by adjusting the values to have zero mean and unit variance to reduce the effect of the range on the weight of input.[CITE from Prof.Anderson's notebook](http://localhost:8889/notebooks/cs480/03%20Linear%20Regression.ipynb)"
   ]
  },
  {
   "cell_type": "markdown",
   "metadata": {},
   "source": [
    "Standardize the X and re-build the model"
   ]
  },
  {
   "cell_type": "code",
   "execution_count": 381,
   "metadata": {
    "collapsed": false
   },
   "outputs": [],
   "source": [
    "models = train(X,T)"
   ]
  },
  {
   "cell_type": "markdown",
   "metadata": {},
   "source": [
    "Output the new weights and other info"
   ]
  },
  {
   "cell_type": "code",
   "execution_count": 382,
   "metadata": {
    "collapsed": false
   },
   "outputs": [
    {
     "name": "stdout",
     "output_type": "stream",
     "text": [
      "name         new weight    range(max-min)  min     max    weight/range\n",
      "bias          104.4694         0.00      1.00    1.00         nan\n",
      "cylinders      -5.0675         2.93     -1.45    1.48       -1.73\n",
      "displacement   17.1228         3.70     -1.21    2.49        4.62\n",
      "mpg            -1.8032         4.82     -1.85    2.97       -0.37\n",
      "weight         16.8967         4.16     -1.61    2.55        4.06\n",
      "acceleration  -12.1061         6.10     -2.74    3.36       -1.99\n",
      "year           -2.3755         3.26     -1.63    1.64       -0.73\n",
      "origin          4.0524         2.49     -0.72    1.77        1.63\n"
     ]
    }
   ],
   "source": [
    "Xs = (X - X.mean(axis=0))/X.std(axis=0)\n",
    "Xs1 = np.hstack((np.ones((Xs.shape[0],1)), Xs))\n",
    "print('{:14s}'.format('name         new weight    range(max-min)  min     max    weight/range'))\n",
    "for weight,name,mn,mx in zip(models['w'].flat,Xnames,\n",
    "    np.min(Xs1,axis=0),np.max(Xs1,axis=0)):\n",
    "    if(mx==mn):\n",
    "        print('{:13s}{:9.4f}{:13.2f}{:10.2f}{:8.2f}{:12.2f}'.\n",
    "              format(name,weight,mx-mn,mn,mx,np.nan))\n",
    "    else:        \n",
    "        print('{:13s}{:9.4f}{:13.2f}{:10.2f}{:8.2f}{:12.2f}'.\n",
    "              format(name,weight,mx-mn,mn,mx,weight/(mx-mn)))"
   ]
  },
  {
   "cell_type": "markdown",
   "metadata": {},
   "source": [
    "Compare the new weight(standardized) and original weight"
   ]
  },
  {
   "cell_type": "code",
   "execution_count": 383,
   "metadata": {
    "collapsed": false,
    "scrolled": true
   },
   "outputs": [
    {
     "name": "stdout",
     "output_type": "stream",
     "text": [
      "name          new weight    original weight   Old range    weight difference\n",
      "bias          104.4694          104.47           0.00         0.00\n",
      "cylinders      -5.0675           -5.07           5.00         0.00\n",
      "displacement   17.1228           17.12         387.00         0.00\n",
      "mpg            -1.8032           -1.80          37.60         0.00\n",
      "weight         16.8967           16.90        3527.00         0.00\n",
      "acceleration  -12.1061          -12.11          16.80         0.00\n",
      "year           -2.3755           -2.38          12.00         0.00\n",
      "origin          4.0524            4.05           2.00         0.00\n"
     ]
    }
   ],
   "source": [
    "print('{:14s}'.format('name          new weight    original weight   Old range    weight difference'))\n",
    "for newWeight,name,originalWeight,mn,mx, in zip(models['w'].flat,Xnames,\n",
    "    model['w'].flat,np.min(X1,axis=0),np.max(X1,axis=0)):\n",
    "    if(mx==mn):\n",
    "        print('{:13s}{:9.4f}{:16.2f}{:15.2f}{:13.2f}'.\n",
    "        format(name,newWeight,originalWeight,mx-mn,np.abs(newWeight-originalWeight)))\n",
    "    else:        \n",
    "        print('{:13s}{:9.4f}{:16.2f}{:15.2f}{:13.2f}'.\n",
    "        format(name,newWeight,originalWeight,mx-mn,np.abs(newWeight-originalWeight)))"
   ]
  },
  {
   "cell_type": "markdown",
   "metadata": {},
   "source": [
    "so we can see that new weight for variables is more close to each other than older weights"
   ]
  },
  {
   "cell_type": "markdown",
   "metadata": {},
   "source": [
    "I would believe that acceleration and origin is less relevant to horsepower since acceleration itself is kind of same thing as horsepower, and origin is less relevant by common sense."
   ]
  },
  {
   "cell_type": "markdown",
   "metadata": {},
   "source": [
    "Remove origin and acceleration,re-build the model and output the weights"
   ]
  },
  {
   "cell_type": "code",
   "execution_count": 384,
   "metadata": {
    "collapsed": false
   },
   "outputs": [],
   "source": [
    "#Xnew=np.delete(X,4,1)\n",
    "#Xnew=np.delete(Xnew,5,1)\n",
    "#XnamesNew = Xnames\n",
    "#XnamesNew[5]='year'\n",
    "#modelNew = train(Xnew,T)\n",
    "\n",
    "#print('{:14s}'.format('name             weight'))\n",
    "#for weight,name in zip(modelNew['w'].flat,Xnames):\n",
    "#        print('{:13s}{:9.4f}'.format(name,weight))"
   ]
  },
  {
   "cell_type": "markdown",
   "metadata": {},
   "source": [
    "Show the values of the resulting weights Remove them, fit th and discuss which ones might be least relevant for fitting your linear model. e linear model again, plot the results, and discuss what you see."
   ]
  },
  {
   "cell_type": "markdown",
   "metadata": {},
   "source": [
    "## Grading\n",
    "\n",
    "Your notebook will be run and graded automatically.  After running all of the above cells in your notebook, run the code in the following cell to demonstrate an example grading session.  You should see a perfect score of 100/100 if your functions are defined correctly."
   ]
  },
  {
   "cell_type": "code",
   "execution_count": 387,
   "metadata": {
    "collapsed": false
   },
   "outputs": [
    {
     "name": "stdout",
     "output_type": "stream",
     "text": [
      "[[ 60.62328473]\n",
      " [ 72.3949757 ]\n",
      " [ 97.07990279]\n",
      " [ 42.3949757 ]\n",
      " [ 53.53652085]\n",
      " [ 88.85159376]]\n",
      "predict ::  [[ 60.62328473]\n",
      " [ 72.3949757 ]\n",
      " [ 97.07990279]\n",
      " [ 42.3949757 ]\n",
      " [ 53.53652085]\n",
      " [ 88.85159376]]\n",
      "20/20 points. 'means' values are correct.\n",
      "20/20 points. 'stds' values are correct.\n",
      "[[ 24.16666667]\n",
      " [ 10.        ]\n",
      " [ -1.77169097]]\n",
      "20/20 points. 'w' values are correct.\n",
      " 0/20 points. Values returned by 'use' not correct.\n",
      " 0/10 points. rmse() not correct. It returned 46.0009278547 but should be 7.2e-15\n",
      "A1 Grade is 60/100\n"
     ]
    }
   ],
   "source": [
    "%run -i A1\\ Grader.py"
   ]
  },
  {
   "cell_type": "code",
   "execution_count": null,
   "metadata": {
    "collapsed": true
   },
   "outputs": [],
   "source": []
  }
 ],
 "metadata": {
  "kernelspec": {
   "display_name": "Python 3",
   "language": "python",
   "name": "python3"
  },
  "language_info": {
   "codemirror_mode": {
    "name": "ipython",
    "version": 3
   },
   "file_extension": ".py",
   "mimetype": "text/x-python",
   "name": "python",
   "nbconvert_exporter": "python",
   "pygments_lexer": "ipython3",
   "version": "3.4.3"
  }
 },
 "nbformat": 4,
 "nbformat_minor": 0
}
